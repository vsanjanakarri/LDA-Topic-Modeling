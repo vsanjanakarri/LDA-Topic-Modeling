{
 "cells": [
  {
   "cell_type": "markdown",
   "metadata": {},
   "source": [
    "### Vaishnavi Sanjana Karri"
   ]
  },
  {
   "cell_type": "code",
   "execution_count": 1,
   "metadata": {},
   "outputs": [
    {
     "name": "stderr",
     "output_type": "stream",
     "text": [
      "[nltk_data] Downloading package stopwords to C:\\Users\\Rupesh\n",
      "[nltk_data]     ChV\\AppData\\Roaming\\nltk_data...\n",
      "[nltk_data]   Package stopwords is already up-to-date!\n",
      "C:\\Users\\Rupesh ChV\\anaconda3\\lib\\site-packages\\sklearn\\decomposition\\_lda.py:28: DeprecationWarning: `np.float` is a deprecated alias for the builtin `float`. To silence this warning, use `float` by itself. Doing this will not modify any behavior and is safe. If you specifically wanted the numpy scalar type, use `np.float64` here.\n",
      "Deprecated in NumPy 1.20; for more details and guidance: https://numpy.org/devdocs/release/1.20.0-notes.html#deprecations\n",
      "  EPS = np.finfo(np.float).eps\n"
     ]
    }
   ],
   "source": [
    "import nltk\n",
    "nltk.download('stopwords')\n",
    "import re\n",
    "import numpy as np\n",
    "import pandas as  pd\n",
    "from pprint import pprint# Gensim\n",
    "import gensim\n",
    "import gensim.corpora as corpora\n",
    "from gensim.utils import simple_preprocess\n",
    "from gensim.models import CoherenceModel# spaCy for preprocessing\n",
    "import spacy# Plotting tools\n",
    "import pyLDAvis\n",
    "import matplotlib.pyplot as plt\n",
    "%matplotlib inline"
   ]
  },
  {
   "cell_type": "code",
   "execution_count": 2,
   "metadata": {},
   "outputs": [],
   "source": [
    "import pyLDAvis\n",
    "import pyLDAvis.gensim_models as gensimvis"
   ]
  },
  {
   "cell_type": "code",
   "execution_count": 3,
   "metadata": {},
   "outputs": [
    {
     "name": "stdout",
     "output_type": "stream",
     "text": [
      "Index(['University', 'Course Title', 'Link', 'Description',\n",
      "       'General Course Catalogue'],\n",
      "      dtype='object')\n"
     ]
    },
    {
     "data": {
      "text/html": [
       "<div>\n",
       "<style scoped>\n",
       "    .dataframe tbody tr th:only-of-type {\n",
       "        vertical-align: middle;\n",
       "    }\n",
       "\n",
       "    .dataframe tbody tr th {\n",
       "        vertical-align: top;\n",
       "    }\n",
       "\n",
       "    .dataframe thead th {\n",
       "        text-align: right;\n",
       "    }\n",
       "</style>\n",
       "<table border=\"1\" class=\"dataframe\">\n",
       "  <thead>\n",
       "    <tr style=\"text-align: right;\">\n",
       "      <th></th>\n",
       "      <th>University</th>\n",
       "      <th>Course Title</th>\n",
       "      <th>Link</th>\n",
       "      <th>Description</th>\n",
       "      <th>General Course Catalogue</th>\n",
       "    </tr>\n",
       "  </thead>\n",
       "  <tbody>\n",
       "    <tr>\n",
       "      <th>0</th>\n",
       "      <td>Arizona State University</td>\n",
       "      <td>Principles of Public Interest Technology</td>\n",
       "      <td>NaN</td>\n",
       "      <td>NaN</td>\n",
       "      <td>NaN</td>\n",
       "    </tr>\n",
       "    <tr>\n",
       "      <th>1</th>\n",
       "      <td>Boston University</td>\n",
       "      <td>XCC433: Justice Media co-Lab</td>\n",
       "      <td>https://www.bu.edu/cds-faculty/programs/justic...</td>\n",
       "      <td>The Justice Media co-Lab provides the programm...</td>\n",
       "      <td>https://www.bu.edu/phpbin/course-search/</td>\n",
       "    </tr>\n",
       "    <tr>\n",
       "      <th>2</th>\n",
       "      <td>Boston University</td>\n",
       "      <td>Law &amp; Algorithms</td>\n",
       "      <td>https://www.bu.edu/law/courses/lawjd673/</td>\n",
       "      <td>This cross-cutting and interdisciplinary cours...</td>\n",
       "      <td>NaN</td>\n",
       "    </tr>\n",
       "    <tr>\n",
       "      <th>3</th>\n",
       "      <td>Boston University</td>\n",
       "      <td>Data Science for Politics</td>\n",
       "      <td>https://www.bu.edu/academics/cas/courses/cas-p...</td>\n",
       "      <td>Data science is changing how we understand and...</td>\n",
       "      <td>NaN</td>\n",
       "    </tr>\n",
       "    <tr>\n",
       "      <th>4</th>\n",
       "      <td>Cal Poly State</td>\n",
       "      <td>Technically Human: The Art and the Ethics of T...</td>\n",
       "      <td>https://debdonig.wordpress.com/technically-hum...</td>\n",
       "      <td>In this course, we will look critically at the...</td>\n",
       "      <td>NaN</td>\n",
       "    </tr>\n",
       "    <tr>\n",
       "      <th>...</th>\n",
       "      <td>...</td>\n",
       "      <td>...</td>\n",
       "      <td>...</td>\n",
       "      <td>...</td>\n",
       "      <td>...</td>\n",
       "    </tr>\n",
       "    <tr>\n",
       "      <th>110</th>\n",
       "      <td>University of Washington</td>\n",
       "      <td>Value Sensitive Design</td>\n",
       "      <td>NaN</td>\n",
       "      <td>Undergraduate course</td>\n",
       "      <td>NaN</td>\n",
       "    </tr>\n",
       "    <tr>\n",
       "      <th>111</th>\n",
       "      <td>NYU</td>\n",
       "      <td>Data Science for Everyone</td>\n",
       "      <td>https://cds.nyu.edu/ds-for-everyone/</td>\n",
       "      <td>Data Science for Everyone is the flagship unde...</td>\n",
       "      <td>NaN</td>\n",
       "    </tr>\n",
       "    <tr>\n",
       "      <th>112</th>\n",
       "      <td>U of M</td>\n",
       "      <td>SEE LIST OF ALL UNDERGRAD COURSES:</td>\n",
       "      <td>https://stpp.fordschool.umich.edu/undergraduat...</td>\n",
       "      <td>NaN</td>\n",
       "      <td>NaN</td>\n",
       "    </tr>\n",
       "    <tr>\n",
       "      <th>113</th>\n",
       "      <td>Stanford</td>\n",
       "      <td>SOC 141P: Public Interest Tech: Case Studies (...</td>\n",
       "      <td>https://explorecourses.stanford.edu/search?aca...</td>\n",
       "      <td>What does public interest technology look like...</td>\n",
       "      <td>NaN</td>\n",
       "    </tr>\n",
       "    <tr>\n",
       "      <th>114</th>\n",
       "      <td>Stanford</td>\n",
       "      <td>CS 184: Bridging Policy and Tech Through Desig...</td>\n",
       "      <td>https://explorecourses.stanford.edu/search?cat...</td>\n",
       "      <td>This project-based course aims to bring togeth...</td>\n",
       "      <td>NaN</td>\n",
       "    </tr>\n",
       "  </tbody>\n",
       "</table>\n",
       "<p>115 rows × 5 columns</p>\n",
       "</div>"
      ],
      "text/plain": [
       "                   University  \\\n",
       "0    Arizona State University   \n",
       "1           Boston University   \n",
       "2           Boston University   \n",
       "3           Boston University   \n",
       "4              Cal Poly State   \n",
       "..                        ...   \n",
       "110  University of Washington   \n",
       "111                       NYU   \n",
       "112                    U of M   \n",
       "113                  Stanford   \n",
       "114                  Stanford   \n",
       "\n",
       "                                          Course Title  \\\n",
       "0             Principles of Public Interest Technology   \n",
       "1                        XCC433: Justice Media co-Lab    \n",
       "2                                     Law & Algorithms   \n",
       "3                            Data Science for Politics   \n",
       "4    Technically Human: The Art and the Ethics of T...   \n",
       "..                                                 ...   \n",
       "110                            Value Sensitive Design    \n",
       "111                          Data Science for Everyone   \n",
       "112                 SEE LIST OF ALL UNDERGRAD COURSES:   \n",
       "113  SOC 141P: Public Interest Tech: Case Studies (...   \n",
       "114  CS 184: Bridging Policy and Tech Through Desig...   \n",
       "\n",
       "                                                  Link  \\\n",
       "0                                                  NaN   \n",
       "1    https://www.bu.edu/cds-faculty/programs/justic...   \n",
       "2             https://www.bu.edu/law/courses/lawjd673/   \n",
       "3    https://www.bu.edu/academics/cas/courses/cas-p...   \n",
       "4    https://debdonig.wordpress.com/technically-hum...   \n",
       "..                                                 ...   \n",
       "110                                                NaN   \n",
       "111               https://cds.nyu.edu/ds-for-everyone/   \n",
       "112  https://stpp.fordschool.umich.edu/undergraduat...   \n",
       "113  https://explorecourses.stanford.edu/search?aca...   \n",
       "114  https://explorecourses.stanford.edu/search?cat...   \n",
       "\n",
       "                                           Description  \\\n",
       "0                                                  NaN   \n",
       "1    The Justice Media co-Lab provides the programm...   \n",
       "2    This cross-cutting and interdisciplinary cours...   \n",
       "3    Data science is changing how we understand and...   \n",
       "4    In this course, we will look critically at the...   \n",
       "..                                                 ...   \n",
       "110                               Undergraduate course   \n",
       "111  Data Science for Everyone is the flagship unde...   \n",
       "112                                                NaN   \n",
       "113  What does public interest technology look like...   \n",
       "114  This project-based course aims to bring togeth...   \n",
       "\n",
       "                     General Course Catalogue  \n",
       "0                                         NaN  \n",
       "1    https://www.bu.edu/phpbin/course-search/  \n",
       "2                                         NaN  \n",
       "3                                         NaN  \n",
       "4                                         NaN  \n",
       "..                                        ...  \n",
       "110                                       NaN  \n",
       "111                                       NaN  \n",
       "112                                       NaN  \n",
       "113                                       NaN  \n",
       "114                                       NaN  \n",
       "\n",
       "[115 rows x 5 columns]"
      ]
     },
     "metadata": {},
     "output_type": "display_data"
    }
   ],
   "source": [
    "# Read in the Pandas dataframe\n",
    "\n",
    "df = pd.read_csv(\"C:\\\\Users\\\\Rupesh ChV\\\\OneDrive\\\\Desktop\\\\CSV_path.csv\")\n",
    "print(df.columns)\n",
    "display(df)"
   ]
  },
  {
   "cell_type": "code",
   "execution_count": 5,
   "metadata": {},
   "outputs": [],
   "source": [
    "# NLTK Stop words\n",
    "\n",
    "from nltk.corpus import stopwords\n",
    "stop_words = stopwords.words('english')\n",
    "stop_words.extend([\"also\", \"and\", \"its\", \"bring\", \"got\", \"from\", \"lot\", \"rather\", \"even\", \"from\", \"but\",\"that\",\"in\",\"you\",\"who\",\"to\", \"of\", \"become\", \"thats\", \"looking\", \"Nan\"])"
   ]
  },
  {
   "cell_type": "code",
   "execution_count": 6,
   "metadata": {},
   "outputs": [],
   "source": [
    "# Convert to list \n",
    "data = df['Description'].values.tolist()"
   ]
  },
  {
   "cell_type": "code",
   "execution_count": 7,
   "metadata": {},
   "outputs": [
    {
     "name": "stdout",
     "output_type": "stream",
     "text": [
      "['the', 'justice', 'media', 'co', 'lab', 'provides', 'the', 'programmatic', 'structure', 'to', 'train', 'new', 'generation', 'of', 'computational', 'investigative', 'journalists', 'equipped', 'to', 'leverage', 'the', 'power', 'of', 'computing', 'and', 'data', 'science', 'to', 'advance', 'justice', 'and', 'transparency', 'the', 'first', 'curricular', 'collaboration', 'between', 'cds', 'and', 'other', 'disciplines', 'this', 'co', 'lab', 'aims', 'to', 'develop', 'and', 'test', 'an', 'institutional', 'framework', 'for', 'collaborations', 'faculty', 'students', 'and', 'external', 'partners', 'around', 'courses', 'and', 'summer', 'programs', 'that', 'lead', 'to', 'student', 'placements', 'in', 'pit', 'careers']\n"
     ]
    }
   ],
   "source": [
    "# Tokenize words and cleanup the text\n",
    "\n",
    "def sent_to_words(sentences):\n",
    "  for sentence in sentences:\n",
    "    yield(gensim.utils.simple_preprocess(str(sentence), deacc=True))            #deacc=True removes punctuations\n",
    "data_words = list(sent_to_words(data))\n",
    "print(data_words[1])"
   ]
  },
  {
   "cell_type": "code",
   "execution_count": 8,
   "metadata": {},
   "outputs": [
    {
     "name": "stdout",
     "output_type": "stream",
     "text": [
      "['the', 'justice', 'media', 'co', 'lab', 'provides', 'the', 'programmatic', 'structure', 'to', 'train', 'new', 'generation', 'of', 'computational', 'investigative', 'journalists', 'equipped', 'to', 'leverage', 'the', 'power', 'of', 'computing', 'and', 'data', 'science', 'to', 'advance', 'justice', 'and', 'transparency', 'the', 'first', 'curricular', 'collaboration', 'between', 'cds', 'and', 'other', 'disciplines', 'this', 'co', 'lab', 'aims', 'to', 'develop', 'and', 'test', 'an', 'institutional', 'framework', 'for', 'collaborations', 'faculty', 'students', 'and', 'external', 'partners', 'around', 'courses', 'and', 'summer', 'programs', 'that', 'lead', 'to', 'student', 'placements', 'in', 'pit', 'careers']\n"
     ]
    }
   ],
   "source": [
    "# Build the bigram and trigram models\n",
    "bigram = gensim.models.Phrases(data_words, min_count=5, threshold=100) # higher threshold fewer phrases.\n",
    "trigram = gensim.models.Phrases(bigram[data_words], threshold=100)\n",
    "\n",
    "# Faster way to get a sentence clubbed as a trigram/bigram\n",
    "bigram_mod = gensim.models.phrases.Phraser(bigram)\n",
    "trigram_mod = gensim.models.phrases.Phraser(trigram)\n",
    "\n",
    "# See trigram example\n",
    "print(trigram_mod[bigram_mod[data_words[1]]])"
   ]
  },
  {
   "cell_type": "code",
   "execution_count": 9,
   "metadata": {},
   "outputs": [],
   "source": [
    "# Define function for stopwords, bigrams, trigrams and lemmatization\n",
    "\n",
    "def remove_stopwords(texts):\n",
    "    return [[word for word in simple_preprocess(str(doc)) if word not in stop_words] for doc in texts]\n",
    "\n",
    "def make_bigrams(texts):\n",
    "    return [bigram_mod[doc] for doc in texts]\n",
    "\n",
    "def make_trigrams(texts):\n",
    "    return [trigram_mod[bigram_mod[doc]] for doc in texts]\n",
    "\n",
    "def lemmatization(texts, allowed_postags=['NOUN', 'ADJ', 'VERB', 'ADV']):\n",
    "    \"\"\"https://spacy.io/api/annotation\"\"\"\n",
    "    texts_out = []\n",
    "    for sent in texts:\n",
    "        doc = nlp(\" \".join(sent)) \n",
    "        texts_out.append([token.lemma_ for token in doc if token.pos_ in allowed_postags])\n",
    "    return texts_out"
   ]
  },
  {
   "cell_type": "code",
   "execution_count": 10,
   "metadata": {},
   "outputs": [
    {
     "name": "stdout",
     "output_type": "stream",
     "text": [
      "['justice', 'medium', 'co', 'lab', 'provide', 'programmatic', 'structure', 'train', 'new', 'generation', 'computational', 'investigative', 'journalist', 'equip', 'leverage', 'power', 'computing', 'data', 'science', 'advance', 'justice', 'transparency', 'first', 'curricular', 'collaboration', 'cds', 'discipline', 'co', 'lab', 'aim', 'develop', 'test', 'institutional', 'framework', 'collaboration', 'faculty', 'student', 'external', 'partner', 'course', 'summer', 'program', 'lead', 'student', 'placement', 'pit', 'career']\n"
     ]
    }
   ],
   "source": [
    "# Remove Stop Words\n",
    "data_words_nostops = remove_stopwords(data_words)\n",
    "\n",
    "# Form Bigrams\n",
    "data_words_bigrams = make_bigrams(data_words_nostops)\n",
    "\n",
    "# Form trigrams\n",
    "data_words_trigrams = make_trigrams(data_words_nostops)\n",
    "\n",
    "# Initialize spacy 'en' model, keeping only tagger component (for efficiency)\n",
    "nlp = spacy.load('en_core_web_sm', disable=['parser', 'ner'])\n",
    "\n",
    "# Do lemmatization keeping only noun, adj, vb, adv\n",
    "data_lemmatized = lemmatization(data_words_bigrams, allowed_postags=['NOUN', 'ADJ', 'VERB', 'ADV'])\n",
    "\n",
    "print(data_lemmatized[1])"
   ]
  },
  {
   "cell_type": "markdown",
   "metadata": {},
   "source": [
    "#### Creating LDA Models"
   ]
  },
  {
   "cell_type": "markdown",
   "metadata": {},
   "source": [
    "##### 1. Using lemmatized corpus"
   ]
  },
  {
   "cell_type": "code",
   "execution_count": 11,
   "metadata": {},
   "outputs": [
    {
     "name": "stdout",
     "output_type": "stream",
     "text": [
      "[(1, 1), (2, 1), (3, 1), (4, 1), (5, 2), (6, 2), (7, 1), (8, 1), (9, 1), (10, 1), (11, 1), (12, 1), (13, 1), (14, 1), (15, 1), (16, 1), (17, 1), (18, 1), (19, 1), (20, 1), (21, 1), (22, 1), (23, 2), (24, 2), (25, 1), (26, 1), (27, 1), (28, 1), (29, 1), (30, 1), (31, 1), (32, 1), (33, 1), (34, 1), (35, 1), (36, 1), (37, 1), (38, 2), (39, 1), (40, 1), (41, 1), (42, 1)]\n"
     ]
    }
   ],
   "source": [
    "# Create Dictionary \n",
    "id2word = corpora.Dictionary(data_lemmatized)  \n",
    "\n",
    "# Create Corpus \n",
    "texts = data_lemmatized  \n",
    "\n",
    "# Term Document Frequency \n",
    "corpus = [id2word.doc2bow(text) for text in texts]  \n",
    "\n",
    "# View \n",
    "print(corpus[1])"
   ]
  },
  {
   "cell_type": "code",
   "execution_count": 12,
   "metadata": {},
   "outputs": [
    {
     "data": {
      "text/plain": [
       "'lab'"
      ]
     },
     "execution_count": 12,
     "metadata": {},
     "output_type": "execute_result"
    }
   ],
   "source": [
    "id2word[24]"
   ]
  },
  {
   "cell_type": "code",
   "execution_count": 13,
   "metadata": {},
   "outputs": [],
   "source": [
    "lda_model = gensim.models.ldamodel.LdaModel(corpus=corpus,\n",
    "                                           id2word=id2word,\n",
    "                                           num_topics=5, \n",
    "                                           random_state=100,\n",
    "                                           update_every=1,\n",
    "                                           chunksize=100,\n",
    "                                           passes=50,\n",
    "                                           alpha='auto',\n",
    "                                           per_word_topics=True)"
   ]
  },
  {
   "cell_type": "code",
   "execution_count": 14,
   "metadata": {},
   "outputs": [
    {
     "name": "stdout",
     "output_type": "stream",
     "text": [
      "[(0,\n",
      "  '0.035*\"course\" + 0.017*\"computer\" + 0.016*\"teach\" + 0.015*\"science\" + '\n",
      "  '0.010*\"make\" + 0.010*\"social\" + 0.009*\"school\" + 0.009*\"develop\" + '\n",
      "  '0.008*\"sociology\" + 0.008*\"scientist\"'),\n",
      " (1,\n",
      "  '0.027*\"technology\" + 0.017*\"course\" + 0.017*\"public\" + 0.014*\"student\" + '\n",
      "  '0.012*\"work\" + 0.011*\"information\" + 0.010*\"system\" + 0.009*\"datum\" + '\n",
      "  '0.009*\"policy\" + 0.009*\"design\"'),\n",
      " (2,\n",
      "  '0.035*\"project\" + 0.026*\"student\" + 0.024*\"team\" + 0.023*\"partner\" + '\n",
      "  '0.021*\"organization\" + 0.020*\"course\" + 0.017*\"base\" + 0.016*\"staff\" + '\n",
      "  '0.012*\"policy\" + 0.011*\"science\"'),\n",
      " (3,\n",
      "  '0.054*\"course\" + 0.038*\"nan\" + 0.024*\"undergraduate\" + 0.023*\"science\" + '\n",
      "  '0.022*\"undergrad\" + 0.017*\"develop\" + 0.016*\"long\" + 0.016*\"data\" + '\n",
      "  '0.011*\"semester\" + 0.009*\"summer\"'),\n",
      " (4,\n",
      "  '0.034*\"datum\" + 0.023*\"science\" + 0.018*\"course\" + 0.017*\"class\" + '\n",
      "  '0.014*\"include\" + 0.013*\"decision\" + 0.013*\"student\" + 0.010*\"learn\" + '\n",
      "  '0.010*\"privacy\" + 0.009*\"context\"')]\n"
     ]
    }
   ],
   "source": [
    "# Print the keyword of topics\n",
    "\n",
    "pprint(lda_model.print_topics())\n",
    "doc_lda = lda_model[corpus]"
   ]
  },
  {
   "cell_type": "code",
   "execution_count": 15,
   "metadata": {},
   "outputs": [
    {
     "name": "stdout",
     "output_type": "stream",
     "text": [
      "\n",
      "Perplexity:  -7.201368624412572\n",
      "\n",
      "Coherence Score:  0.5700174478766286\n"
     ]
    }
   ],
   "source": [
    "# Compute Perplexity\n",
    "print('\\nPerplexity: ', lda_model.log_perplexity(corpus))  \n",
    "# a measure of how good the model is. lower the better.\n",
    "\n",
    "# Compute Coherence Score\n",
    "coherence_model_lda = CoherenceModel(model=lda_model, texts=data_lemmatized, dictionary=id2word, coherence='c_v')\n",
    "coherence_lda = coherence_model_lda.get_coherence()\n",
    "print('\\nCoherence Score: ', coherence_lda)"
   ]
  },
  {
   "cell_type": "code",
   "execution_count": 16,
   "metadata": {},
   "outputs": [
    {
     "name": "stderr",
     "output_type": "stream",
     "text": [
      "C:\\Users\\Rupesh ChV\\anaconda3\\lib\\site-packages\\pyLDAvis\\_prepare.py:246: FutureWarning: In a future version of pandas all arguments of DataFrame.drop except for the argument 'labels' will be keyword-only.\n",
      "  default_term_info = default_term_info.sort_values(\n"
     ]
    },
    {
     "data": {
      "text/html": [
       "\n",
       "<link rel=\"stylesheet\" type=\"text/css\" href=\"https://cdn.jsdelivr.net/gh/bmabey/pyLDAvis@3.3.1/pyLDAvis/js/ldavis.v1.0.0.css\">\n",
       "\n",
       "\n",
       "<div id=\"ldavis_el1501630352353975207823480589\"></div>\n",
       "<script type=\"text/javascript\">\n",
       "\n",
       "var ldavis_el1501630352353975207823480589_data = {\"mdsDat\": {\"x\": [0.029220271621693696, -0.059244257040908244, -0.05004599680523393, 0.1680126966356285, -0.08794271441118005], \"y\": [-0.12822462596630513, -0.08539252285565796, 0.055838140469906185, 0.06000158947308134, 0.09777741887897548], \"topics\": [1, 2, 3, 4, 5], \"cluster\": [1, 1, 1, 1, 1], \"Freq\": [60.49695763654533, 20.001548705119173, 8.320521888048175, 7.070261249833834, 4.110710520453482]}, \"tinfo\": {\"Term\": [\"course\", \"science\", \"datum\", \"student\", \"project\", \"undergraduate\", \"organization\", \"policy\", \"technology\", \"teach\", \"develop\", \"data\", \"nan\", \"computer\", \"base\", \"team\", \"class\", \"partner\", \"work\", \"public\", \"decision\", \"include\", \"major\", \"make\", \"long\", \"application\", \"information\", \"undergrad\", \"social\", \"take\", \"new\", \"ethic\", \"government\", \"practice\", \"technology\", \"political\", \"economic\", \"city\", \"provide\", \"technical\", \"challenge\", \"shape\", \"create\", \"look\", \"case\", \"business\", \"improve\", \"public\", \"communication\", \"many\", \"understanding\", \"study\", \"technological\", \"address\", \"different\", \"system\", \"broad\", \"role\", \"field\", \"live\", \"information\", \"work\", \"understand\", \"community\", \"policy\", \"interest\", \"use\", \"design\", \"tool\", \"student\", \"course\", \"human\", \"social\", \"society\", \"datum\", \"drive\", \"world\", \"good\", \"socially\", \"programming\", \"discrimination\", \"arise\", \"non\", \"decision\", \"thus\", \"harm\", \"active\", \"camp\", \"governmental\", \"learner\", \"little\", \"mitigate\", \"previous\", \"profit\", \"refugee\", \"threat\", \"utilize\", \"emphasize\", \"algorithm\", \"collection\", \"american\", \"concept\", \"decision_making\", \"topic\", \"interaction\", \"modern\", \"variety\", \"experience\", \"bias\", \"privacy\", \"grad\", \"wide\", \"context\", \"datum\", \"class\", \"include\", \"science\", \"make\", \"learn\", \"course\", \"method\", \"personal\", \"organization\", \"student\", \"human\", \"individual\", \"design\", \"issue\", \"help\", \"use\", \"social\", \"school\", \"scientist\", \"jointly\", \"arvind\", \"matt\", \"narayanan\", \"salganik\", \"sociologist\", \"unique\", \"ghani\", \"prof\", \"rayid\", \"sociology\", \"attract\", \"begin\", \"tech\", \"become\", \"scoring\", \"theory\", \"examination\", \"plan\", \"carve\", \"eighteenth\", \"european\", \"scholar\", \"bullshit\", \"defuse\", \"saturate\", \"central\", \"alter\", \"global\", \"computer\", \"teach\", \"cold\", \"course\", \"make\", \"century\", \"war\", \"grad\", \"develop\", \"science\", \"social\", \"student\", \"world\", \"society\", \"examine\", \"art\", \"culture\", \"team\", \"partner\", \"staff\", \"meeting\", \"mentor\", \"teaching\", \"weekly\", \"suggest\", \"approval\", \"collaborate\", \"full\", \"guidance\", \"infosession\", \"march\", \"memo\", \"nexus\", \"paper\", \"preform\", \"preparation\", \"quarter\", \"select\", \"session\", \"together\", \"verify\", \"white\", \"project\", \"visualization\", \"software\", \"spring\", \"external\", \"faculty\", \"base\", \"organization\", \"application\", \"student\", \"course\", \"outcome\", \"policy\", \"possible\", \"problem\", \"science\", \"early\", \"open\", \"aim\", \"apply\", \"engage\", \"work\", \"social\", \"digital\", \"technology\", \"information\", \"nan\", \"undergrad\", \"semester\", \"summer\", \"chance\", \"extremely\", \"flagship\", \"get\", \"line\", \"minor\", \"popular\", \"prove\", \"sequence\", \"skip\", \"waitlist\", \"janet\", \"vertesi\", \"benjamin\", \"ruha\", \"center\", \"third\", \"year\", \"instruction\", \"long\", \"first\", \"inclusive\", \"discourse\", \"civil\", \"undergraduate\", \"collaboration\", \"develop\", \"data\", \"course\", \"science\", \"datum\", \"take\", \"major\"], \"Freq\": [89.0, 41.0, 57.0, 58.0, 16.0, 14.0, 20.0, 28.0, 74.0, 16.0, 13.0, 14.0, 7.0, 17.0, 12.0, 8.0, 25.0, 7.0, 33.0, 46.0, 13.0, 20.0, 9.0, 14.0, 5.0, 9.0, 30.0, 4.0, 28.0, 7.0, 18.428981253195293, 14.489098660249972, 14.48550637726462, 14.331027113991698, 72.04648731050877, 13.128381560495905, 11.625470953210852, 10.866178949864183, 10.862643374160001, 10.848363001441296, 10.814735583708146, 10.107273418966349, 10.106569509019666, 9.95071077949396, 9.951644600482775, 9.356616331944624, 9.194367554768073, 44.4371125326691, 9.141822711313681, 8.600850658549772, 8.598769747884269, 15.113575266452521, 7.837938018577167, 7.830241237925472, 13.834962913229111, 26.94595136437693, 7.0792919851290295, 7.078282965354318, 6.3325526315758855, 6.329059586332581, 28.144245250426504, 31.14422314950225, 11.508136191870534, 13.885193236674926, 24.154643932332874, 19.626598350171783, 20.386811230453958, 23.562038050914218, 13.269136428958973, 35.879355093123245, 44.87057805885614, 18.846253152307675, 18.74319876368606, 13.19714653551507, 24.192655069453775, 12.356140572771018, 12.466151465471677, 11.46526178900591, 7.262264881523649, 4.6264582810370785, 4.626929034005701, 4.626227591703537, 4.624853237582157, 11.626645406838042, 4.172126235664068, 4.171831556533061, 3.716890181559972, 3.716890181559972, 3.716890181559972, 3.716890181559972, 3.716890181559972, 3.716890181559972, 3.716890181559972, 3.716890181559972, 3.716890181559972, 3.716890181559972, 3.716890181559972, 4.626783528542672, 2.83785479356504, 1.9917199433477022, 1.9895078119735057, 3.8088533023990494, 1.9852757224066757, 7.732996656072808, 2.4449947305383697, 5.203665002787041, 4.161510042959564, 7.206317419621629, 5.947203624960193, 8.862357890075474, 7.26008189199989, 3.716890181559972, 8.044652239590475, 30.038376031504598, 14.786623821903095, 12.027049540923338, 19.842153666290415, 7.761164394307856, 8.881779812552345, 15.763905354449482, 7.1773182215978455, 4.560942917889686, 7.262264881523649, 11.12274816859821, 7.368529518307302, 4.789238951490048, 7.813687383099604, 6.138646426159846, 4.429192408267984, 5.269792141004479, 4.651729360096371, 3.387959407727616, 3.0679549747903594, 3.051164768405769, 2.7332100265153207, 2.7332100265153207, 2.7332100265153207, 2.7332100265153207, 2.7332100265153207, 2.7332100265153207, 2.7332076528140505, 2.7332076528140505, 2.7332076528140505, 3.0679549747903594, 2.7332100265153207, 1.1303632420925591, 1.1295254103192278, 1.1283853555091743, 1.1280221792148353, 1.1243331931158256, 1.1284266409562664, 2.066925643980542, 0.7956088837874848, 0.7956088837874848, 0.7956088837874848, 0.7956088837874848, 0.7952854669894216, 0.7952854669894216, 0.7952854669894216, 0.7953789738644579, 0.7951592369468747, 1.1296273099237553, 6.256817475679426, 5.6973835603212954, 1.1283477153890327, 12.628579061666482, 3.6725587298192783, 1.4651128529950932, 1.1283179593481099, 2.7332100265153207, 3.1917336621254506, 5.32943680462967, 3.517282722129687, 2.9044371371904907, 1.7650498458440815, 1.4495818951343378, 1.2336262836745435, 1.1687454829812423, 1.1618694638268223, 7.476770680604757, 7.070007350055735, 4.861602906815175, 3.2667925695685223, 3.2667925695685223, 3.2667925695685223, 1.8766131555031187, 1.876627562813772, 1.6719816560294434, 1.6719816560294434, 1.6719816560294434, 1.6719816560294434, 1.6719816560294434, 1.6719816560294434, 1.6719816560294434, 1.6719816560294434, 1.6719816560294434, 1.6719816560294434, 1.6719816560294434, 1.6719816560294434, 1.6719816560294434, 1.6719816560294434, 1.6719816560294434, 1.6719816560294434, 1.6719816560294434, 10.929838827363033, 1.6719816560294434, 1.6719816560294434, 2.0765559397978173, 2.2392553938346795, 2.110877899674505, 5.327654049579385, 6.456413244061828, 3.3044979422790073, 8.038919161718225, 6.213512901958022, 2.050668884016151, 3.72140027362711, 1.8766402412471468, 2.43929946152327, 3.5159831435035156, 1.8699732582423794, 1.8699732582423794, 1.988329891550828, 2.1094254986875565, 1.9419029092633233, 2.2381215384862725, 2.0037612738452557, 1.8764783030754049, 1.9731183648169686, 1.9061766688172683, 6.806228027319399, 4.043526504838092, 1.8932446048130778, 1.5612391734861841, 1.3909592320514872, 1.3909592320514872, 1.3909592320514872, 1.3909592320514872, 1.3909592320514872, 1.3909592320514872, 1.3909592320514872, 1.3909592320514872, 1.3909592320514872, 1.3909592320514872, 1.3909592320514872, 1.3909584781634305, 1.3909584781634305, 1.3909584781634305, 1.3909584781634305, 1.3909592320514872, 1.3909592320514872, 1.5560509158813176, 1.3909592320514872, 2.9418474387565197, 1.5580066690305705, 0.5738963197129217, 0.5737102768936442, 0.4031864945553377, 4.31051378215046, 0.40403214754138717, 2.998702325364532, 2.868057880969899, 9.789459564580376, 4.186800081955295, 1.3962862888240901, 1.3909592320514872, 1.3909592320514872], \"Total\": [89.0, 41.0, 57.0, 58.0, 16.0, 14.0, 20.0, 28.0, 74.0, 16.0, 13.0, 14.0, 7.0, 17.0, 12.0, 8.0, 25.0, 7.0, 33.0, 46.0, 13.0, 20.0, 9.0, 14.0, 5.0, 9.0, 30.0, 4.0, 28.0, 7.0, 18.87047347787299, 14.931157586241511, 14.928128373083407, 14.771389948562222, 74.38338292084062, 13.574193085839969, 12.066029645840048, 11.308329156198107, 11.306044695088884, 11.300806524151056, 11.278743721637221, 10.550317443686852, 10.550207401809363, 10.392398855861844, 10.393560550201652, 9.797985902878784, 9.635558646312196, 46.62997402810223, 9.606822279739864, 9.041923053935667, 9.04002439856013, 15.948303540620053, 8.281645496663801, 8.276880721892418, 14.636279859026176, 28.537553530603315, 7.524952869123273, 7.524027548224232, 6.772953653205055, 6.770277821345466, 30.419550337858347, 33.74692050439616, 12.473238876807908, 15.238998286756127, 28.240094284306416, 23.61137079829751, 25.925980045762095, 31.64564851577746, 15.45198749557012, 58.01009223702248, 89.2660349415105, 26.55665319293228, 28.98031403094988, 16.76679697159855, 57.56653314913645, 17.170519529802934, 17.728004349752137, 15.451122423785202, 7.815120844775275, 5.179789313389804, 5.180453770671814, 5.180883914822355, 5.180652893553008, 13.084614940867922, 4.724982198915694, 4.725155316330362, 4.269746144811599, 4.269746144811599, 4.269746144811599, 4.269746144811599, 4.269746144811599, 4.269746144811599, 4.269746144811599, 4.269746144811599, 4.269746144811599, 4.269746144811599, 4.269746144811599, 5.517228676026332, 3.6137114469655174, 2.5457293719927514, 2.5470525851789274, 4.883241606475304, 2.546951150879057, 9.93210458879271, 3.1795648948805972, 6.781450762876076, 5.48775132914904, 9.521739821340436, 7.901604317242548, 12.964890249824428, 10.420720041228087, 5.025491034525615, 11.832642825443246, 57.56653314913645, 25.541369994205876, 20.70327102960611, 41.739541307141295, 14.198364289212567, 19.74305187946784, 89.2660349415105, 16.942126622519474, 6.736260013582818, 20.24412835846233, 58.01009223702248, 26.55665319293228, 8.408922830709091, 31.64564851577746, 17.03520424904325, 6.822607055293754, 25.925980045762095, 28.98031403094988, 4.007434153472867, 3.666248520931943, 3.672999030188305, 3.331497446245164, 3.331497446245164, 3.331497446245164, 3.331497446245164, 3.331497446245164, 3.331497446245164, 3.331495072543894, 3.331495072543894, 3.331495072543894, 4.4219935647418325, 4.073722023597832, 1.728712015097561, 1.729727490529869, 1.7305867449102488, 1.7310341413848023, 1.7343864545603171, 1.9384209488447268, 3.5738625084562186, 1.3939633246786078, 1.3939633246786078, 1.3939633246786078, 1.3939633246786078, 1.393867170094088, 1.393867170094088, 1.393867170094088, 1.3942502898967444, 1.394508089563626, 2.075324692950778, 17.641435988086023, 16.67126343492075, 2.188360203497685, 89.2660349415105, 14.198364289212567, 3.5755805949233666, 2.4005985419415694, 10.420720041228087, 13.971057318500572, 41.739541307141295, 28.98031403094988, 58.01009223702248, 17.728004349752137, 16.76679697159855, 10.861681605782646, 3.9932873713742283, 6.221712479534001, 8.132811654965757, 7.718436059411263, 5.508900012399685, 3.9140896751530314, 3.9140896751530314, 3.9140896751530314, 2.5242255993451264, 2.5243870715884102, 2.3192787616139525, 2.3192787616139525, 2.3192787616139525, 2.3192787616139525, 2.3192787616139525, 2.3192787616139525, 2.3192787616139525, 2.3192787616139525, 2.3192787616139525, 2.3192787616139525, 2.3192787616139525, 2.3192787616139525, 2.3192787616139525, 2.3192787616139525, 2.3192787616139525, 2.3192787616139525, 2.3192787616139525, 16.79180301103678, 2.7743317493647477, 2.7743317493647477, 3.487305328245255, 3.8114652765460586, 3.601221553408774, 12.055904978650542, 20.24412835846233, 9.103637594036986, 58.01009223702248, 89.2660349415105, 4.324085974444541, 28.240094284306416, 3.435986044296775, 8.533755828627266, 41.739541307141295, 3.6327742209715326, 3.7531325513766025, 5.23716362259619, 8.209121834600758, 5.803410306565799, 33.74692050439616, 28.98031403094988, 11.592189766572224, 74.38338292084062, 30.419550337858347, 7.466503995047805, 4.706211349641623, 2.576380479134939, 2.221771474872268, 2.051235199779893, 2.051235199779893, 2.051235199779893, 2.051235199779893, 2.051235199779893, 2.051235199779893, 2.051235199779893, 2.051235199779893, 2.051235199779893, 2.051235199779893, 2.051235199779893, 2.0512344458918363, 2.0512344458918363, 2.0512344458918363, 2.0512344458918363, 2.260255665457433, 2.385928855502445, 2.770141652605958, 2.5090089122623755, 5.628958945072366, 2.9886487382281812, 1.2400680918423392, 1.2406792062347378, 1.070869581218652, 14.21600860201965, 1.52289544435017, 13.971057318500572, 14.384104427335764, 89.2660349415105, 41.739541307141295, 57.56653314913645, 7.3368289538081, 9.453299038845175], \"Category\": [\"Default\", \"Default\", \"Default\", \"Default\", \"Default\", \"Default\", \"Default\", \"Default\", \"Default\", \"Default\", \"Default\", \"Default\", \"Default\", \"Default\", \"Default\", \"Default\", \"Default\", \"Default\", \"Default\", \"Default\", \"Default\", \"Default\", \"Default\", \"Default\", \"Default\", \"Default\", \"Default\", \"Default\", \"Default\", \"Default\", \"Topic1\", \"Topic1\", \"Topic1\", \"Topic1\", \"Topic1\", \"Topic1\", \"Topic1\", \"Topic1\", \"Topic1\", \"Topic1\", \"Topic1\", \"Topic1\", \"Topic1\", \"Topic1\", \"Topic1\", \"Topic1\", \"Topic1\", \"Topic1\", \"Topic1\", \"Topic1\", \"Topic1\", \"Topic1\", \"Topic1\", \"Topic1\", \"Topic1\", \"Topic1\", \"Topic1\", \"Topic1\", \"Topic1\", \"Topic1\", \"Topic1\", \"Topic1\", \"Topic1\", \"Topic1\", \"Topic1\", \"Topic1\", \"Topic1\", \"Topic1\", \"Topic1\", \"Topic1\", \"Topic1\", \"Topic1\", \"Topic1\", \"Topic1\", \"Topic1\", \"Topic1\", \"Topic1\", \"Topic1\", \"Topic2\", \"Topic2\", \"Topic2\", \"Topic2\", \"Topic2\", \"Topic2\", \"Topic2\", \"Topic2\", \"Topic2\", \"Topic2\", \"Topic2\", \"Topic2\", \"Topic2\", \"Topic2\", \"Topic2\", \"Topic2\", \"Topic2\", \"Topic2\", \"Topic2\", \"Topic2\", \"Topic2\", \"Topic2\", \"Topic2\", \"Topic2\", \"Topic2\", \"Topic2\", \"Topic2\", \"Topic2\", \"Topic2\", \"Topic2\", \"Topic2\", \"Topic2\", \"Topic2\", \"Topic2\", \"Topic2\", \"Topic2\", \"Topic2\", \"Topic2\", \"Topic2\", \"Topic2\", \"Topic2\", \"Topic2\", \"Topic2\", \"Topic2\", \"Topic2\", \"Topic2\", \"Topic2\", \"Topic2\", \"Topic2\", \"Topic2\", \"Topic2\", \"Topic2\", \"Topic2\", \"Topic3\", \"Topic3\", \"Topic3\", \"Topic3\", \"Topic3\", \"Topic3\", \"Topic3\", \"Topic3\", \"Topic3\", \"Topic3\", \"Topic3\", \"Topic3\", \"Topic3\", \"Topic3\", \"Topic3\", \"Topic3\", \"Topic3\", \"Topic3\", \"Topic3\", \"Topic3\", \"Topic3\", \"Topic3\", \"Topic3\", \"Topic3\", \"Topic3\", \"Topic3\", \"Topic3\", \"Topic3\", \"Topic3\", \"Topic3\", \"Topic3\", \"Topic3\", \"Topic3\", \"Topic3\", \"Topic3\", \"Topic3\", \"Topic3\", \"Topic3\", \"Topic3\", \"Topic3\", \"Topic3\", \"Topic3\", \"Topic3\", \"Topic3\", \"Topic3\", \"Topic3\", \"Topic3\", \"Topic3\", \"Topic4\", \"Topic4\", \"Topic4\", \"Topic4\", \"Topic4\", \"Topic4\", \"Topic4\", \"Topic4\", \"Topic4\", \"Topic4\", \"Topic4\", \"Topic4\", \"Topic4\", \"Topic4\", \"Topic4\", \"Topic4\", \"Topic4\", \"Topic4\", \"Topic4\", \"Topic4\", \"Topic4\", \"Topic4\", \"Topic4\", \"Topic4\", \"Topic4\", \"Topic4\", \"Topic4\", \"Topic4\", \"Topic4\", \"Topic4\", \"Topic4\", \"Topic4\", \"Topic4\", \"Topic4\", \"Topic4\", \"Topic4\", \"Topic4\", \"Topic4\", \"Topic4\", \"Topic4\", \"Topic4\", \"Topic4\", \"Topic4\", \"Topic4\", \"Topic4\", \"Topic4\", \"Topic4\", \"Topic4\", \"Topic4\", \"Topic4\", \"Topic4\", \"Topic5\", \"Topic5\", \"Topic5\", \"Topic5\", \"Topic5\", \"Topic5\", \"Topic5\", \"Topic5\", \"Topic5\", \"Topic5\", \"Topic5\", \"Topic5\", \"Topic5\", \"Topic5\", \"Topic5\", \"Topic5\", \"Topic5\", \"Topic5\", \"Topic5\", \"Topic5\", \"Topic5\", \"Topic5\", \"Topic5\", \"Topic5\", \"Topic5\", \"Topic5\", \"Topic5\", \"Topic5\", \"Topic5\", \"Topic5\", \"Topic5\", \"Topic5\", \"Topic5\", \"Topic5\", \"Topic5\", \"Topic5\", \"Topic5\"], \"logprob\": [30.0, 29.0, 28.0, 27.0, 26.0, 25.0, 24.0, 23.0, 22.0, 21.0, 20.0, 19.0, 18.0, 17.0, 16.0, 15.0, 14.0, 13.0, 12.0, 11.0, 10.0, 9.0, 8.0, 7.0, 6.0, 5.0, 4.0, 3.0, 2.0, 1.0, -4.9674, -5.2079, -5.2082, -5.2189, -3.604, -5.3065, -5.4281, -5.4957, -5.496, -5.4973, -5.5004, -5.5681, -5.5681, -5.5837, -5.5836, -5.6452, -5.6627, -4.0872, -5.6685, -5.7295, -5.7297, -5.1657, -5.8223, -5.8233, -5.2541, -4.5875, -5.9241, -5.9243, -6.0356, -6.0362, -4.544, -4.4427, -5.4383, -5.2505, -4.6968, -4.9044, -4.8664, -4.7217, -5.2959, -4.3012, -4.0775, -4.945, -4.9505, -5.3013, -4.6953, -5.3672, -5.3583, -5.442, -4.7918, -5.2427, -5.2426, -5.2428, -5.2431, -4.3212, -5.3461, -5.3462, -5.4616, -5.4616, -5.4616, -5.4616, -5.4616, -5.4616, -5.4616, -5.4616, -5.4616, -5.4616, -5.4616, -5.2427, -5.7315, -6.0855, -6.0866, -5.4372, -6.0888, -4.729, -5.8805, -5.1252, -5.3487, -4.7996, -4.9916, -4.5927, -4.7921, -5.4616, -4.6895, -3.3721, -4.0808, -4.2874, -3.7867, -4.7254, -4.5905, -4.0168, -4.8036, -5.257, -4.7918, -4.3655, -4.7773, -5.2082, -4.7187, -4.9599, -5.2863, -5.1125, -5.2373, -4.6772, -4.7764, -4.7819, -4.892, -4.892, -4.892, -4.892, -4.892, -4.892, -4.892, -4.892, -4.892, -4.7764, -4.892, -5.7749, -5.7756, -5.7767, -5.777, -5.7803, -5.7766, -5.1714, -6.1261, -6.1261, -6.1261, -6.1261, -6.1265, -6.1265, -6.1265, -6.1264, -6.1267, -5.7756, -4.0638, -4.1574, -5.7767, -3.3615, -4.5966, -5.5155, -5.7767, -4.892, -4.7369, -4.2242, -4.6398, -4.8312, -5.3293, -5.5262, -5.6875, -5.7415, -5.7474, -3.7228, -3.7788, -4.1532, -4.5508, -4.5508, -4.5508, -5.1051, -5.1051, -5.2206, -5.2206, -5.2206, -5.2206, -5.2206, -5.2206, -5.2206, -5.2206, -5.2206, -5.2206, -5.2206, -5.2206, -5.2206, -5.2206, -5.2206, -5.2206, -5.2206, -3.3431, -5.2206, -5.2206, -5.0039, -4.9285, -4.9875, -4.0617, -3.8695, -4.5393, -3.6503, -3.9079, -5.0165, -4.4205, -5.1051, -4.8429, -4.4773, -5.1087, -5.1087, -5.0473, -4.9882, -5.0709, -4.929, -5.0396, -5.1052, -5.055, -5.0895, -3.2745, -3.7952, -4.554, -4.7468, -4.8623, -4.8623, -4.8623, -4.8623, -4.8623, -4.8623, -4.8623, -4.8623, -4.8623, -4.8623, -4.8623, -4.8623, -4.8623, -4.8623, -4.8623, -4.8623, -4.8623, -4.7502, -4.8623, -4.1133, -4.7489, -5.7476, -5.7479, -6.1007, -3.7313, -6.0986, -4.0941, -4.1387, -2.911, -3.7604, -4.8585, -4.8623, -4.8623], \"loglift\": [30.0, 29.0, 28.0, 27.0, 26.0, 25.0, 24.0, 23.0, 22.0, 21.0, 20.0, 19.0, 18.0, 17.0, 16.0, 15.0, 14.0, 13.0, 12.0, 11.0, 10.0, 9.0, 8.0, 7.0, 6.0, 5.0, 4.0, 3.0, 2.0, 1.0, 0.4789, 0.4725, 0.4725, 0.4723, 0.4707, 0.4692, 0.4654, 0.4627, 0.4626, 0.4617, 0.4606, 0.4597, 0.4596, 0.4591, 0.4591, 0.4565, 0.4557, 0.4544, 0.453, 0.4526, 0.4525, 0.4488, 0.4475, 0.4471, 0.4463, 0.4452, 0.4415, 0.4415, 0.4353, 0.4352, 0.4248, 0.4223, 0.422, 0.4095, 0.3463, 0.3177, 0.2622, 0.2076, 0.3503, 0.0221, -0.1853, 0.1596, 0.0668, 0.2632, -0.3643, 0.1735, 0.1504, 0.2042, 1.536, 1.4964, 1.4964, 1.4961, 1.4959, 1.4912, 1.4849, 1.4848, 1.4707, 1.4707, 1.4707, 1.4707, 1.4707, 1.4707, 1.4707, 1.4707, 1.4707, 1.4707, 1.4707, 1.4333, 1.3677, 1.3639, 1.3623, 1.3609, 1.3602, 1.3591, 1.3467, 1.3445, 1.3327, 1.3307, 1.3252, 1.2289, 1.248, 1.3077, 1.2235, 0.9589, 1.0628, 1.0662, 0.8657, 1.0054, 0.8106, -0.1245, 0.7505, 1.2194, 0.5842, -0.0423, 0.3273, 1.0464, 0.2106, 0.5887, 1.1773, 0.0161, -0.22, 2.3185, 2.3083, 2.301, 2.2885, 2.2885, 2.2885, 2.2885, 2.2885, 2.2885, 2.2885, 2.2885, 2.2885, 2.1209, 2.0874, 2.0616, 2.0603, 2.0588, 2.0582, 2.053, 1.9454, 1.9389, 1.9256, 1.9256, 1.9256, 1.9256, 1.9253, 1.9253, 1.9253, 1.9252, 1.9247, 1.8782, 1.4499, 1.4128, 1.824, 0.5308, 1.1342, 1.5942, 1.7315, 1.1481, 1.01, 0.4282, 0.3775, -0.5079, 0.1795, 0.0383, 0.3112, 1.2578, 0.8084, 2.5652, 2.5615, 2.5243, 2.4685, 2.4685, 2.4685, 2.3528, 2.3528, 2.322, 2.322, 2.322, 2.322, 2.322, 2.322, 2.322, 2.322, 2.322, 2.322, 2.322, 2.322, 2.322, 2.322, 2.322, 2.322, 2.322, 2.2199, 2.1429, 2.1429, 2.1309, 2.1174, 2.1151, 1.8326, 1.5065, 1.6359, 0.673, -0.0156, 1.9032, 0.6226, 2.0445, 1.397, 0.1751, 1.9852, 1.9526, 1.6808, 1.2904, 1.5545, -0.064, -0.0223, 0.8283, -0.9803, -0.1207, 3.099, 3.0398, 2.8835, 2.8387, 2.8031, 2.8031, 2.8031, 2.8031, 2.8031, 2.8031, 2.8031, 2.8031, 2.8031, 2.8031, 2.8031, 2.8031, 2.8031, 2.8031, 2.8031, 2.7061, 2.652, 2.6148, 2.6017, 2.5427, 2.5402, 2.4211, 2.4203, 2.2147, 1.9983, 1.8647, 1.6528, 1.5791, 0.9813, 0.8921, -0.5276, 1.5287, 1.2752]}, \"token.table\": {\"Topic\": [2, 1, 1, 4, 2, 3, 2, 1, 4, 1, 2, 4, 4, 2, 2, 3, 3, 1, 3, 1, 2, 4, 3, 3, 5, 1, 2, 1, 3, 1, 2, 3, 1, 5, 3, 1, 3, 1, 5, 1, 1, 2, 4, 2, 3, 4, 2, 2, 1, 1, 2, 1, 2, 3, 4, 2, 1, 2, 1, 2, 3, 4, 5, 1, 1, 3, 1, 2, 5, 1, 2, 4, 5, 1, 2, 2, 3, 1, 2, 1, 2, 3, 5, 1, 1, 4, 5, 2, 1, 2, 1, 4, 1, 3, 2, 1, 2, 4, 1, 3, 3, 1, 2, 3, 1, 2, 1, 4, 5, 2, 4, 1, 1, 5, 5, 4, 5, 3, 3, 1, 2, 1, 2, 2, 3, 4, 2, 1, 2, 1, 2, 1, 1, 2, 5, 1, 2, 1, 4, 4, 2, 5, 2, 1, 2, 1, 2, 5, 3, 1, 2, 3, 2, 5, 2, 1, 1, 5, 1, 1, 5, 1, 2, 3, 1, 4, 3, 4, 4, 4, 1, 2, 5, 2, 1, 2, 5, 3, 1, 4, 2, 1, 2, 4, 1, 2, 4, 1, 4, 4, 4, 1, 2, 1, 3, 1, 4, 1, 5, 2, 4, 1, 4, 4, 2, 1, 2, 1, 2, 4, 3, 2, 2, 1, 2, 4, 5, 1, 1, 4, 4, 3, 2, 1, 5, 3, 3, 3, 3, 1, 2, 3, 4, 5, 3, 3, 4, 5, 5, 4, 1, 5, 1, 2, 3, 4, 2, 1, 2, 3, 3, 1, 3, 2, 4, 1, 4, 4, 1, 2, 3, 4, 1, 3, 4, 5, 1, 2, 1, 5, 1, 3, 4, 4, 3, 1, 1, 1, 4, 3, 5, 2, 2, 4, 1, 2, 1, 2, 5, 1, 5, 1, 2, 1, 3, 1, 2, 2, 1, 2, 4, 5, 2, 4, 5, 2, 3, 4, 4, 1, 2, 1, 4, 1, 2, 3, 5], \"Freq\": [0.9368238448697045, 0.9665476969892696, 0.5728291526077672, 0.38188610173851145, 0.8301714301287505, 0.7170987443413995, 0.785221322731153, 0.5492310022616753, 0.3295386013570052, 0.6090785471017643, 0.12181570942035287, 0.24363141884070574, 0.8623370476640027, 0.9650862829979935, 0.5008404890509373, 0.2504202445254686, 0.900495962673246, 0.24547575760135432, 0.736427272804063, 0.49768142753490746, 0.08294690458915124, 0.41473452294575625, 0.5778387029376338, 0.5784653495010066, 0.48751131398108893, 0.25311315521528766, 0.759339465645863, 0.9302383844452656, 0.7174284762962734, 0.9185561286994377, 0.9368238448697045, 0.7173789885975371, 0.9621341937345989, 0.4424278258794316, 0.717231337333312, 0.559349718711309, 0.2796748593556545, 0.9752859246990001, 0.48751113480662994, 0.9727343313110839, 0.35236950884160373, 0.5872825147360062, 0.07830433529813416, 0.4569631628292668, 0.4569631628292668, 0.8623370476640027, 0.6566438974585723, 0.7856294632113373, 0.9368342348728974, 0.9186955557418158, 0.06562111112441542, 0.4534778237668818, 0.05668472797086022, 0.34010836782516135, 0.11336945594172045, 0.8191280142059523, 0.33804789504834576, 0.6760957900966915, 0.5041111104518669, 0.17923950593844154, 0.14563209857498374, 0.06721481472691558, 0.11202469121152596, 0.9478486648788532, 0.8036372648924616, 0.1607274529784923, 0.48664830232302103, 0.27808474418458345, 0.20856355813843758, 0.41690889979119794, 0.5211361247389974, 0.03474240831593316, 0.01737120415796658, 0.07642563457306208, 0.9171076148767449, 0.7852525947777671, 0.7174284762962734, 0.75839810923876, 0.2527993697462534, 0.5010358085590667, 0.07157654407986667, 0.2147296322396, 0.2147296322396, 0.9565272142132631, 0.7763848057381546, 0.17252995683070102, 0.8060101233056363, 0.965166416175081, 0.6988722722787482, 0.2911967801161451, 0.27527171774869197, 0.5505434354973839, 0.9945276410071797, 0.7173789885975371, 0.9062520866184479, 0.5169374284299514, 0.17231247614331713, 0.34462495228663426, 0.9376366111694154, 0.7173789885975371, 0.5158838180096984, 0.6444674272419543, 0.18413355064055834, 0.09206677532027917, 0.21004564685936222, 0.7351597640077678, 0.2623662889318508, 0.5247325778637016, 0.48751113480662994, 0.27768355408554063, 0.5553671081710813, 0.8858764295782118, 0.33459937503155673, 0.6691987500631135, 0.48751113480662994, 0.8623370476640027, 0.48751113480662994, 0.9004966042796012, 0.4818523113017852, 0.7119223897331097, 0.2588808689938581, 0.9378268762240218, 0.9368238448697045, 0.6717386104132442, 0.28788797589139037, 0.8623370476640027, 0.8465330200206984, 0.293143073284306, 0.586286146568612, 0.7154515993399579, 0.26358743133577395, 0.9340402907977273, 0.3864123687778532, 0.5796185531667798, 0.8064073308380382, 0.356763887646121, 0.5946064794102016, 0.9204606803524272, 0.0657471914537448, 0.8623370476640027, 0.3985637496593422, 0.3985637496593422, 0.6290168831654265, 0.8470495072417435, 0.16940990144834872, 0.6457216385073747, 0.35221180282220443, 0.48751131398108893, 0.8167712475127438, 0.5065073050028142, 0.45585657450253275, 0.05065073050028142, 0.9368238448697045, 0.48751113480662994, 0.9368238448697045, 0.8862265564764685, 0.35530548712756477, 0.5329582306913471, 0.9622417440569546, 0.8462654113793154, 0.10578317642241443, 0.2112919445431681, 0.5634451854484482, 0.2817225927242241, 0.995363480347533, 0.8623370476640027, 0.900495962673246, 0.7664617443601895, 0.8623370476640027, 0.7664617443601895, 0.5312202063250548, 0.4131712715861538, 0.48751113480662994, 0.9368238448697045, 0.14746107211665294, 0.7373053605832647, 0.9375204251739212, 0.900495962673246, 0.9538711374203893, 0.8623370476640027, 0.965129319167895, 0.26644409338359565, 0.26644409338359565, 0.5328881867671913, 0.2963822345797326, 0.34577927367635475, 0.2963822345797326, 0.46252549366965673, 0.46252549366965673, 0.8623370476640027, 0.9069194777437771, 0.2969006534734782, 0.7422516336836955, 0.27980930929320064, 0.5596186185864013, 0.8498555195453891, 0.14164258659089818, 0.9576996524059361, 0.48751113480662994, 0.2910372705558135, 0.582074541111627, 0.9477781067828823, 0.8623370476640027, 0.8623370476640027, 0.9368238448697045, 0.3085255580975063, 0.6941825057193892, 0.585908490986705, 0.117181698197341, 0.234363396394682, 0.9004966042796012, 0.9368238448697045, 0.965290226587972, 0.2977643316035592, 0.05955286632071184, 0.6550815295278303, 0.48751113480662994, 0.9729308787164247, 0.9435990672755417, 0.042890866694342805, 0.8623370476640027, 0.9004966042796012, 0.9368238448697045, 0.930352787138863, 0.48751131398108893, 0.900495962673246, 0.7174284762962734, 0.7173789885975371, 0.7486086820416454, 0.21562287744786915, 0.47916194988415367, 0.11979048747103842, 0.09583238997683075, 0.09583238997683075, 0.8182751340701296, 0.5776893569528412, 0.8623370476640027, 0.7762828573641157, 0.48751113480662994, 0.8623370476640027, 0.9478387786316179, 0.48751113480662994, 0.6556174643141796, 0.1725309116616262, 0.13802472932930096, 0.06901236466465048, 0.8956995213554226, 0.7753418868267347, 0.11928336720411303, 0.05964168360205652, 0.900495962673246, 0.2261423462877388, 0.6784270388632164, 0.3604471600157317, 0.7208943200314634, 0.2867543578420134, 0.5735087156840268, 0.9076222092878379, 0.6205816714255201, 0.18962217738002005, 0.05171513928546001, 0.13790703809456004, 0.9405389082164921, 0.06270259388109947, 0.7922715270212297, 0.9001825897125545, 0.9461217469481236, 0.035041546183263834, 0.8177919967570958, 0.13629866612618263, 0.6598180181688366, 0.35990073718300175, 0.7664617443601895, 0.8607109443787401, 0.5781257484054145, 0.9733818534537159, 0.9659916019374097, 0.9679581268389335, 0.02688772574552593, 0.5765727686414094, 0.41912398087386105, 0.9368238448697045, 0.8465640359275711, 0.8623370476640027, 0.8413157209534972, 0.12943318783899957, 0.20136719082245474, 0.805468763289819, 0.8499405791252022, 0.7034323261860795, 0.28137293047443185, 0.9620596637744327, 0.0801716386478694, 0.9955725342327058, 0.900495962673246, 0.7714269610906853, 0.19285674027267133, 0.9368238448697045, 0.182224000327483, 0.728896001309932, 0.8623370476640027, 0.48751131398108893, 0.3604471600157317, 0.7208943200314634, 0.48751113480662994, 0.4165627790439356, 0.4165627790439356, 0.792322207856093, 0.8623370476640027, 0.19898553059390658, 0.7959421223756263, 0.9186023357586562, 0.05926466682313911, 0.67689514077583, 0.1692237851939575, 0.11281585679597167, 0.7219847397040285], \"Term\": [\"active\", \"address\", \"aim\", \"aim\", \"algorithm\", \"alter\", \"american\", \"application\", \"application\", \"apply\", \"apply\", \"apply\", \"approval\", \"arise\", \"art\", \"art\", \"arvind\", \"attract\", \"attract\", \"base\", \"base\", \"base\", \"become\", \"begin\", \"benjamin\", \"bias\", \"bias\", \"broad\", \"bullshit\", \"business\", \"camp\", \"carve\", \"case\", \"center\", \"central\", \"century\", \"century\", \"challenge\", \"chance\", \"city\", \"class\", \"class\", \"class\", \"cold\", \"cold\", \"collaborate\", \"collaboration\", \"collection\", \"communication\", \"community\", \"community\", \"computer\", \"computer\", \"computer\", \"computer\", \"concept\", \"context\", \"context\", \"course\", \"course\", \"course\", \"course\", \"course\", \"create\", \"culture\", \"culture\", \"data\", \"data\", \"data\", \"datum\", \"datum\", \"datum\", \"datum\", \"decision\", \"decision\", \"decision_making\", \"defuse\", \"design\", \"design\", \"develop\", \"develop\", \"develop\", \"develop\", \"different\", \"digital\", \"digital\", \"discourse\", \"discrimination\", \"drive\", \"drive\", \"early\", \"early\", \"economic\", \"eighteenth\", \"emphasize\", \"engage\", \"engage\", \"engage\", \"ethic\", \"european\", \"examination\", \"examine\", \"examine\", \"examine\", \"experience\", \"experience\", \"external\", \"external\", \"extremely\", \"faculty\", \"faculty\", \"field\", \"first\", \"first\", \"flagship\", \"full\", \"get\", \"ghani\", \"global\", \"good\", \"good\", \"government\", \"governmental\", \"grad\", \"grad\", \"guidance\", \"harm\", \"help\", \"help\", \"human\", \"human\", \"improve\", \"include\", \"include\", \"inclusive\", \"individual\", \"individual\", \"information\", \"information\", \"infosession\", \"instruction\", \"instruction\", \"interaction\", \"interest\", \"interest\", \"issue\", \"issue\", \"janet\", \"jointly\", \"learn\", \"learn\", \"learn\", \"learner\", \"line\", \"little\", \"live\", \"long\", \"long\", \"look\", \"major\", \"major\", \"make\", \"make\", \"make\", \"many\", \"march\", \"matt\", \"meeting\", \"memo\", \"mentor\", \"method\", \"method\", \"minor\", \"mitigate\", \"modern\", \"modern\", \"nan\", \"narayanan\", \"new\", \"nexus\", \"non\", \"open\", \"open\", \"open\", \"organization\", \"organization\", \"organization\", \"outcome\", \"outcome\", \"paper\", \"partner\", \"personal\", \"personal\", \"plan\", \"plan\", \"policy\", \"policy\", \"political\", \"popular\", \"possible\", \"possible\", \"practice\", \"preform\", \"preparation\", \"previous\", \"privacy\", \"privacy\", \"problem\", \"problem\", \"problem\", \"prof\", \"profit\", \"programming\", \"project\", \"project\", \"project\", \"prove\", \"provide\", \"public\", \"public\", \"quarter\", \"rayid\", \"refugee\", \"role\", \"ruha\", \"salganik\", \"saturate\", \"scholar\", \"school\", \"science\", \"science\", \"science\", \"science\", \"science\", \"scientist\", \"scoring\", \"select\", \"semester\", \"sequence\", \"session\", \"shape\", \"skip\", \"social\", \"social\", \"social\", \"social\", \"socially\", \"society\", \"society\", \"society\", \"sociologist\", \"sociology\", \"sociology\", \"software\", \"software\", \"spring\", \"spring\", \"staff\", \"student\", \"student\", \"student\", \"student\", \"study\", \"study\", \"suggest\", \"summer\", \"system\", \"system\", \"take\", \"take\", \"teach\", \"teach\", \"teaching\", \"team\", \"tech\", \"technical\", \"technological\", \"technology\", \"technology\", \"theory\", \"third\", \"threat\", \"thus\", \"together\", \"tool\", \"tool\", \"topic\", \"topic\", \"undergrad\", \"undergraduate\", \"undergraduate\", \"understand\", \"understand\", \"understanding\", \"unique\", \"use\", \"use\", \"utilize\", \"variety\", \"variety\", \"verify\", \"vertesi\", \"visualization\", \"visualization\", \"waitlist\", \"war\", \"war\", \"weekly\", \"white\", \"wide\", \"wide\", \"work\", \"work\", \"world\", \"world\", \"world\", \"year\"]}, \"R\": 30, \"lambda.step\": 0.01, \"plot.opts\": {\"xlab\": \"PC1\", \"ylab\": \"PC2\"}, \"topic.order\": [2, 5, 1, 3, 4]};\n",
       "\n",
       "function LDAvis_load_lib(url, callback){\n",
       "  var s = document.createElement('script');\n",
       "  s.src = url;\n",
       "  s.async = true;\n",
       "  s.onreadystatechange = s.onload = callback;\n",
       "  s.onerror = function(){console.warn(\"failed to load library \" + url);};\n",
       "  document.getElementsByTagName(\"head\")[0].appendChild(s);\n",
       "}\n",
       "\n",
       "if(typeof(LDAvis) !== \"undefined\"){\n",
       "   // already loaded: just create the visualization\n",
       "   !function(LDAvis){\n",
       "       new LDAvis(\"#\" + \"ldavis_el1501630352353975207823480589\", ldavis_el1501630352353975207823480589_data);\n",
       "   }(LDAvis);\n",
       "}else if(typeof define === \"function\" && define.amd){\n",
       "   // require.js is available: use it to load d3/LDAvis\n",
       "   require.config({paths: {d3: \"https://d3js.org/d3.v5\"}});\n",
       "   require([\"d3\"], function(d3){\n",
       "      window.d3 = d3;\n",
       "      LDAvis_load_lib(\"https://cdn.jsdelivr.net/gh/bmabey/pyLDAvis@3.3.1/pyLDAvis/js/ldavis.v3.0.0.js\", function(){\n",
       "        new LDAvis(\"#\" + \"ldavis_el1501630352353975207823480589\", ldavis_el1501630352353975207823480589_data);\n",
       "      });\n",
       "    });\n",
       "}else{\n",
       "    // require.js not available: dynamically load d3 & LDAvis\n",
       "    LDAvis_load_lib(\"https://d3js.org/d3.v5.js\", function(){\n",
       "         LDAvis_load_lib(\"https://cdn.jsdelivr.net/gh/bmabey/pyLDAvis@3.3.1/pyLDAvis/js/ldavis.v3.0.0.js\", function(){\n",
       "                 new LDAvis(\"#\" + \"ldavis_el1501630352353975207823480589\", ldavis_el1501630352353975207823480589_data);\n",
       "            })\n",
       "         });\n",
       "}\n",
       "</script>"
      ],
      "text/plain": [
       "PreparedData(topic_coordinates=              x         y  topics  cluster       Freq\n",
       "topic                                                \n",
       "1      0.029220 -0.128225       1        1  60.496958\n",
       "4     -0.059244 -0.085393       2        1  20.001549\n",
       "0     -0.050046  0.055838       3        1   8.320522\n",
       "2      0.168013  0.060002       4        1   7.070261\n",
       "3     -0.087943  0.097777       5        1   4.110711, topic_info=        Term       Freq      Total Category  logprob  loglift\n",
       "9     course  89.000000  89.000000  Default  30.0000  30.0000\n",
       "36   science  41.000000  41.000000  Default  29.0000  29.0000\n",
       "61     datum  57.000000  57.000000  Default  28.0000  28.0000\n",
       "38   student  58.000000  58.000000  Default  27.0000  27.0000\n",
       "272  project  16.000000  16.000000  Default  26.0000  26.0000\n",
       "..       ...        ...        ...      ...      ...      ...\n",
       "9     course   9.789460  89.266035   Topic5  -2.9110   0.9813\n",
       "36   science   4.186800  41.739541   Topic5  -3.7604   0.8921\n",
       "61     datum   1.396286  57.566533   Topic5  -4.8585  -0.5276\n",
       "286     take   1.390959   7.336829   Topic5  -4.8623   1.5287\n",
       "588    major   1.390959   9.453299   Topic5  -4.8623   1.2752\n",
       "\n",
       "[267 rows x 6 columns], token_table=      Topic      Freq       Term\n",
       "term                            \n",
       "1389      2  0.936824     active\n",
       "387       1  0.966548    address\n",
       "2         1  0.572829        aim\n",
       "2         4  0.381886        aim\n",
       "44        2  0.830171  algorithm\n",
       "...     ...       ...        ...\n",
       "225       4  0.059265       work\n",
       "173       1  0.676895      world\n",
       "173       2  0.169224      world\n",
       "173       3  0.112816      world\n",
       "401       5  0.721985       year\n",
       "\n",
       "[317 rows x 3 columns], R=30, lambda_step=0.01, plot_opts={'xlab': 'PC1', 'ylab': 'PC2'}, topic_order=[2, 5, 1, 3, 4])"
      ]
     },
     "execution_count": 16,
     "metadata": {},
     "output_type": "execute_result"
    }
   ],
   "source": [
    "# Visualize the topics\n",
    "\n",
    "pyLDAvis.enable_notebook()\n",
    "vis = gensimvis.prepare(lda_model, corpus, id2word)\n",
    "vis"
   ]
  },
  {
   "cell_type": "code",
   "execution_count": null,
   "metadata": {},
   "outputs": [],
   "source": []
  },
  {
   "cell_type": "markdown",
   "metadata": {},
   "source": [
    "##### 2. Using Bigram corpus"
   ]
  },
  {
   "cell_type": "code",
   "execution_count": 17,
   "metadata": {},
   "outputs": [
    {
     "name": "stdout",
     "output_type": "stream",
     "text": [
      "[(1, 1), (4, 1), (5, 2), (6, 1), (7, 1), (8, 1), (10, 1), (11, 1), (12, 1), (15, 1), (16, 1), (17, 1), (18, 1), (19, 1), (20, 1), (21, 1), (23, 2), (24, 2), (25, 1), (26, 1), (28, 1), (30, 1), (32, 1), (34, 1), (36, 1), (37, 1), (38, 1), (39, 1), (40, 1), (41, 1), (42, 1)]\n"
     ]
    }
   ],
   "source": [
    "# Create Dictionary \n",
    "id2word_bi = corpora.Dictionary(data_words_bigrams)  \n",
    "\n",
    "# Create Corpus \n",
    "texts_bi = data_words_bigrams  \n",
    "\n",
    "# Term Document Frequency \n",
    "corpus_bi = [id2word.doc2bow(text) for text in texts_bi]  \n",
    "\n",
    "# View \n",
    "print(corpus_bi[1])"
   ]
  },
  {
   "cell_type": "code",
   "execution_count": 18,
   "metadata": {},
   "outputs": [
    {
     "data": {
      "text/plain": [
       "'journalists'"
      ]
     },
     "execution_count": 18,
     "metadata": {},
     "output_type": "execute_result"
    }
   ],
   "source": [
    "id2word_bi[24]"
   ]
  },
  {
   "cell_type": "code",
   "execution_count": 19,
   "metadata": {},
   "outputs": [],
   "source": [
    "lda_model_bi = gensim.models.ldamodel.LdaModel(corpus=corpus_bi,\n",
    "                                           id2word=id2word_bi,\n",
    "                                           num_topics=5, \n",
    "                                           random_state=100,\n",
    "                                           update_every=1,\n",
    "                                           chunksize=100,\n",
    "                                           passes=50,\n",
    "                                           alpha='auto',\n",
    "                                           per_word_topics=True)"
   ]
  },
  {
   "cell_type": "code",
   "execution_count": 20,
   "metadata": {},
   "outputs": [
    {
     "name": "stdout",
     "output_type": "stream",
     "text": [
      "[(0,\n",
      "  '0.010*\"computational\" + 0.008*\"identity\" + 0.005*\"implications\" + '\n",
      "  '0.005*\"shape\" + 0.005*\"changing\" + 0.004*\"reasoning\" + 0.004*\"techniques\" + '\n",
      "  '0.004*\"leverage\" + 0.003*\"hopes\" + 0.003*\"digester\"'),\n",
      " (1,\n",
      "  '0.059*\"computational\" + 0.030*\"disruptions\" + 0.013*\"advertising\" + '\n",
      "  '0.008*\"programs\" + 0.008*\"answer\" + 0.008*\"structure\" + 0.008*\"economic\" + '\n",
      "  '0.007*\"external\" + 0.007*\"iteration\" + 0.007*\"angles\"'),\n",
      " (2,\n",
      "  '0.033*\"computational\" + 0.014*\"intelligence\" + 0.009*\"sectoral\" + '\n",
      "  '0.009*\"regimes\" + 0.008*\"solutions\" + 0.007*\"programs\" + '\n",
      "  '0.007*\"complexities\" + 0.007*\"commercial\" + 0.006*\"leverage\" + '\n",
      "  '0.006*\"transparent\"'),\n",
      " (3,\n",
      "  '0.057*\"courses\" + 0.031*\"programs\" + 0.021*\"computational\" + '\n",
      "  '0.014*\"solutions\" + 0.013*\"expert\" + 0.011*\"legal\" + 0.008*\"health\" + '\n",
      "  '0.008*\"complexities\" + 0.008*\"industrial\" + 0.008*\"industry\"'),\n",
      " (4,\n",
      "  '0.031*\"machine\" + 0.025*\"entities\" + 0.022*\"sectoral\" + 0.022*\"nan\" + '\n",
      "  '0.019*\"computational\" + 0.018*\"industrial\" + 0.018*\"agriculture\" + '\n",
      "  '0.017*\"media\" + 0.016*\"changing\" + 0.013*\"iterative\"')]\n"
     ]
    }
   ],
   "source": [
    "# Print the keyword of topics\n",
    "\n",
    "pprint(lda_model_bi.print_topics())\n",
    "doc_lda_bi = lda_model_bi[corpus_bi]"
   ]
  },
  {
   "cell_type": "code",
   "execution_count": 21,
   "metadata": {},
   "outputs": [
    {
     "name": "stdout",
     "output_type": "stream",
     "text": [
      "\n",
      "Perplexity:  -7.224387913538946\n",
      "\n",
      "Coherence Score:  0.698700849262069\n"
     ]
    }
   ],
   "source": [
    "# Compute Perplexity\n",
    "print('\\nPerplexity: ', lda_model_bi.log_perplexity(corpus_bi))  \n",
    "# a measure of how good the model is. lower the better.\n",
    "\n",
    "# Compute Coherence Score\n",
    "coherence_model_lda_bi = CoherenceModel(model=lda_model_bi, texts=data_words_bigrams, dictionary=id2word_bi, coherence='c_v')\n",
    "coherence_lda_bi = coherence_model_lda_bi.get_coherence()\n",
    "print('\\nCoherence Score: ', coherence_lda_bi)"
   ]
  },
  {
   "cell_type": "code",
   "execution_count": 22,
   "metadata": {},
   "outputs": [
    {
     "name": "stderr",
     "output_type": "stream",
     "text": [
      "C:\\Users\\Rupesh ChV\\anaconda3\\lib\\site-packages\\pyLDAvis\\_prepare.py:246: FutureWarning: In a future version of pandas all arguments of DataFrame.drop except for the argument 'labels' will be keyword-only.\n",
      "  default_term_info = default_term_info.sort_values(\n"
     ]
    },
    {
     "data": {
      "text/html": [
       "\n",
       "<link rel=\"stylesheet\" type=\"text/css\" href=\"https://cdn.jsdelivr.net/gh/bmabey/pyLDAvis@3.3.1/pyLDAvis/js/ldavis.v1.0.0.css\">\n",
       "\n",
       "\n",
       "<div id=\"ldavis_el1501630352865680643916302706\"></div>\n",
       "<script type=\"text/javascript\">\n",
       "\n",
       "var ldavis_el1501630352865680643916302706_data = {\"mdsDat\": {\"x\": [0.04007646521632252, 0.046247449630760024, -0.17044300214206198, 0.048563193413052604, 0.0355558938819267], \"y\": [-0.1273709894404581, 0.019167797117731557, 0.0027552483745756197, 0.07214673525588118, 0.033301208692270004], \"topics\": [1, 2, 3, 4, 5], \"cluster\": [1, 1, 1, 1, 1], \"Freq\": [39.197487191235325, 25.05895819441567, 13.917136648746226, 10.932968237181813, 10.893449728420965]}, \"tinfo\": {\"Term\": [\"courses\", \"computational\", \"machine\", \"disruptions\", \"entities\", \"nan\", \"industrial\", \"sectoral\", \"media\", \"agriculture\", \"changing\", \"iterative\", \"advertising\", \"intelligence\", \"programs\", \"organizing\", \"beyond\", \"legal\", \"role\", \"access\", \"identity\", \"discovery\", \"combining\", \"several\", \"creatively\", \"external\", \"structure\", \"economic\", \"encourage\", \"work\", \"legal\", \"importance\", \"applications\", \"courses\", \"aesthetics\", \"attention\", \"connects\", \"entangle\", \"democratic\", \"second\", \"logic\", \"undergraduate\", \"involving\", \"funds\", \"examine\", \"claims\", \"genetics\", \"info\", \"related\", \"pursuit\", \"ucd\", \"ux\", \"consideration\", \"fundamentals\", \"interactions\", \"health\", \"comprehensive\", \"analyzing\", \"grades\", \"tackling\", \"programs\", \"expert\", \"survive\", \"solutions\", \"cross\", \"industry\", \"biases\", \"sciences\", \"complexities\", \"computational\", \"industrial\", \"organizing\", \"dog\", \"identity\", \"sectoral\", \"beyond\", \"broad\", \"informatics\", \"offs\", \"recognizing\", \"stakeholders\", \"survey\", \"value\", \"thompson\", \"founders\", \"resilience\", \"knowing\", \"helping\", \"best\", \"anyone\", \"commercial\", \"believe\", \"limits\", \"intellectual\", \"different\", \"excellent\", \"growing\", \"considerations\", \"summer\", \"official\", \"human\", \"intelligence\", \"rapidly\", \"another\", \"question\", \"politics\", \"regulatory\", \"placements\", \"ensemble\", \"however\", \"regimes\", \"disparate\", \"prior\", \"computational\", \"transparent\", \"decision_making\", \"leverage\", \"sectoral\", \"experience\", \"complexities\", \"dog\", \"non\", \"solutions\", \"tools\", \"programs\", \"agriculture\", \"expert\", \"entities\", \"nan\", \"media\", \"iterative\", \"role\", \"combining\", \"several\", \"encourage\", \"discovery\", \"access\", \"gather\", \"creatively\", \"tries\", \"vision\", \"ai\", \"becoming\", \"fixture\", \"theories\", \"experiences\", \"impacts\", \"loop\", \"elegant\", \"team\", \"appreciate\", \"landscape\", \"networked\", \"faced\", \"ing\", \"ensure\", \"everyone\", \"machine\", \"disciplines\", \"agriculture\", \"changing\", \"sectoral\", \"industrial\", \"work\", \"beyond\", \"organizing\", \"equipped\", \"tools\", \"intend\", \"computational\", \"driven\", \"designed\", \"courses\", \"teams\", \"unit\", \"consider\", \"society\", \"intelligence\", \"solutions\", \"expert\", \"disruptions\", \"structure\", \"economic\", \"workplace\", \"angles\", \"deception\", \"education\", \"development\", \"leveraging\", \"playing\", \"applying\", \"domain\", \"exploratory\", \"network\", \"defined\", \"distribute\", \"answer\", \"external\", \"advertising\", \"iteration\", \"generation\", \"socio\", \"perhaps\", \"opportunity\", \"aims\", \"variations\", \"journalists\", \"security\", \"exploited\", \"group\", \"neutral\", \"cds\", \"justice\", \"computational\", \"behalf\", \"digital\", \"collaborations\", \"programs\", \"transparent\", \"lifecycle\", \"investigative\", \"dog\", \"industry\", \"leverage\", \"hopes\", \"aimed\", \"shape\", \"design\", \"engages\", \"converters\", \"illness\", \"map\", \"identities\", \"campaigns\", \"cold\", \"corporate\", \"depending\", \"embraced\", \"equal\", \"especially\", \"example\", \"feared\", \"force\", \"lives\", \"mechanics\", \"digester\", \"techniques\", \"hacking\", \"futures\", \"name\", \"placed\", \"policies\", \"really\", \"skill\", \"explore\", \"assumes\", \"whether\", \"greeted\", \"personal\", \"erosion\", \"reasoning\", \"identity\", \"intervals\", \"implications\", \"spring\", \"computational\", \"evidence\", \"services\", \"changing\", \"leverage\", \"fail\", \"activity\", \"relate\", \"including\", \"tools\", \"sectoral\", \"commercial\", \"beyond\", \"study\", \"policy\", \"art\", \"consider\"], \"Freq\": [74.0, 82.0, 19.0, 11.0, 11.0, 9.0, 18.0, 23.0, 7.0, 14.0, 14.0, 6.0, 6.0, 15.0, 47.0, 11.0, 10.0, 13.0, 4.0, 5.0, 9.0, 5.0, 4.0, 4.0, 4.0, 3.0, 3.0, 3.0, 3.0, 5.0, 12.900976245374986, 8.521444244339415, 7.023851376290202, 68.87823603871722, 6.485292593634052, 5.427021107618068, 5.427484480751972, 5.4129083736919945, 5.394685161905385, 5.008700937657317, 4.895504701190236, 4.895504701190236, 4.895504701190236, 4.895504701190236, 4.875491234988942, 4.838044194068597, 4.836574607293679, 4.3613331331273715, 4.3613331331273715, 4.3613331331273715, 4.3613331331273715, 4.3613331331273715, 4.3613331331273715, 4.3613331331273715, 3.9403804665218334, 10.122405137530082, 5.429672631662074, 2.872056917424711, 7.564817684576853, 5.961365321347369, 37.272313432582855, 15.76098126409778, 8.10811037223263, 16.367131524700522, 6.803914228355534, 9.17782683887841, 5.950910884735704, 6.040079433395824, 10.048534058212068, 25.661286286105586, 9.83912186019205, 6.79784168985796, 7.095100591921816, 6.076209106734998, 6.093168675361759, 4.982916573198998, 4.058101021402308, 4.058101021402308, 4.058101021402308, 4.058101021402308, 4.058101021402308, 4.058101021402308, 4.058101021402308, 3.666413541243854, 3.165603002927537, 4.058101736944577, 2.6676117011502085, 4.551417685537704, 2.17510574640534, 2.170161707099212, 5.060813657765965, 4.163428127824298, 1.6740624779661024, 2.941603747885262, 1.668966385927859, 1.6695939164975782, 1.66853205177071, 1.6548623322679574, 2.1723730904808733, 2.663924690724758, 3.585590179816198, 10.810035505936499, 1.1813220042426416, 1.1813220042426416, 1.1813037579147876, 1.1810448210562732, 2.5280120877949463, 2.172347867615899, 2.1694515313974487, 1.6719870476155092, 6.832253030891223, 2.6652783178117208, 3.12810035930743, 25.5525152976839, 4.615195399038508, 4.055881051513421, 4.788041431713613, 7.238187315392199, 3.5736703189317445, 5.515920006977431, 4.589405824587177, 4.058100663631174, 5.850348005932522, 4.2195416680842115, 5.631729449865898, 3.438666812454416, 3.4049164724917858, 10.82156334571742, 9.336983026947411, 7.368371080200797, 5.548292590863108, 4.195400561574039, 3.7282160884993893, 3.7282160884993893, 3.0741008795208824, 4.1954406984482455, 4.191738568546216, 2.1418339531350847, 3.7282160884993893, 1.9081374004643035, 1.9081374004643035, 1.9081374004643035, 1.9081374004643035, 1.9081374004643035, 1.9081374004643035, 1.9081374004643035, 1.9081374004643035, 1.9081374004643035, 1.9081374004643035, 1.9081374004643035, 1.9081374004643035, 1.9081370030695093, 1.9081370030695093, 1.9081370030695093, 1.9081370030695093, 1.9081342213059505, 1.9081342213059505, 13.228483470218693, 2.599282452451173, 7.470028642484826, 6.954192714345149, 9.436970736306545, 7.764305845847948, 3.3035474935659397, 4.816817530800099, 4.2972349645414525, 2.306826112034712, 3.895783564362316, 2.1416223404072157, 8.006003744000955, 2.14151186465445, 2.141300450623978, 4.105395409443219, 2.496819370919461, 2.0782372746527646, 2.114411129274591, 2.1412968740708305, 2.338040082231118, 2.3250418946076192, 2.205455071397244, 9.998109024458389, 2.514504898485828, 2.5144301304647363, 2.2408409856628446, 2.2408409856628446, 2.2408409856628446, 2.2408409856628446, 2.2399027172395014, 2.2399027172395014, 2.2399027172395014, 2.2399027172395014, 2.2399027172395014, 2.2399027172395014, 2.2399027172395014, 2.2399027172395014, 2.2399027172395014, 2.515217926294484, 2.4411980536895452, 4.3782501698893945, 2.2483780392462, 0.6523230045504196, 0.6523230045504196, 0.6523229265044685, 0.6523221460449582, 0.6519737879425134, 0.9267714742961826, 0.66414154193863, 0.37786532538243445, 0.37786532538243445, 0.37786532538243445, 1.719670572690073, 0.6523229265044685, 0.6519078000909132, 19.874150435292336, 1.431067260011866, 1.4921368118696596, 1.201217719732341, 2.5630824154209546, 1.3574833520894087, 0.9267714742961826, 0.9110329619483112, 1.2068258676358654, 1.0972817414523601, 0.9993336046276889, 1.1250683307423992, 1.1242962135283723, 1.7047250060227266, 0.7919015025762881, 0.7919015025762881, 0.7919015025762881, 0.7919014248124434, 0.7919014248124434, 0.7919011915209093, 0.7915958129027723, 0.7915958129027723, 0.7915958129027723, 0.7915958129027723, 0.7915958129027723, 0.7915958129027723, 0.7915958129027723, 0.7915958129027723, 0.7915958129027723, 0.7915958129027723, 0.7906112448650248, 0.7906112448650248, 1.1250683307423992, 1.4554323166539858, 1.1244775588142129, 0.4587256149222696, 0.4587256149222696, 0.4587256149222696, 0.4587256149222696, 0.4587256149222696, 0.4587256149222696, 0.7919015025762881, 1.1250683307423992, 0.7919015025762881, 0.7919011915209093, 0.7915958129027723, 0.7915958129027723, 1.4582330592847033, 2.790820586244485, 1.1146619730446368, 1.7783785649473227, 1.1250683307423992, 3.4542699815767812, 1.1250683307423992, 1.0686833222272778, 1.6512688949543883, 1.4392541708748954, 1.1250682529785545, 1.1248817752789637, 1.1137345614327439, 1.0349506106179058, 1.1250681752147098, 1.1006440291074693, 0.8554667579279451, 0.8509161732637869, 0.7919015025762881, 0.7919015025762881, 0.7919015025762881, 0.7919015025762881], \"Total\": [74.0, 82.0, 19.0, 11.0, 11.0, 9.0, 18.0, 23.0, 7.0, 14.0, 14.0, 6.0, 6.0, 15.0, 47.0, 11.0, 10.0, 13.0, 4.0, 5.0, 9.0, 5.0, 4.0, 4.0, 4.0, 3.0, 3.0, 3.0, 3.0, 5.0, 13.410639655778441, 9.026099976337177, 7.534831917891529, 74.0415205719442, 7.001605481880493, 5.933452002345262, 5.934139516111137, 5.932959523078888, 5.91717104254763, 5.513356669655078, 5.400160433187997, 5.400160433187997, 5.400160433187997, 5.400160433187997, 5.398543189765527, 5.372054939887921, 5.371340759873071, 4.865988865125132, 4.865988865125132, 4.865988865125132, 4.865988865125132, 4.865988865125132, 4.865988865125132, 4.865988865125132, 4.4450361985195945, 11.621743894465453, 6.267424164274293, 3.376712649422472, 9.011402462870377, 7.238318448252257, 47.54755604770676, 21.909040621531513, 10.592153560918016, 25.55942159545827, 8.683888163574528, 13.733398818226245, 7.793642808683507, 8.068404169349499, 18.182465314094976, 82.54822574465958, 18.43545763179589, 11.512648334103888, 13.106151874969916, 9.742700643845676, 23.973826232820073, 10.941994160613632, 4.576763526414967, 4.576763526414967, 4.576763526414967, 4.576763526414967, 4.576763526414967, 4.576763526414967, 4.576763526414967, 4.185076046256513, 3.687576527653632, 4.81263906957006, 3.1893761083650767, 5.607072838791972, 2.693886743368878, 2.6919454404305037, 6.310317705373692, 5.348362593278891, 2.1972114439499824, 3.8622922520418626, 2.192447642509397, 2.194096508736896, 2.194041564438691, 2.198350405013017, 2.9672417503598267, 3.736084753466835, 5.092878994579996, 15.37499211766619, 1.699984509255301, 1.699984509255301, 1.6999836796907524, 1.699834517240226, 3.734536927467885, 3.2263681365229435, 3.2409183923368876, 2.4677491154114057, 11.642210509984858, 4.131613674857935, 5.031290072214658, 82.54822574465958, 9.33343363862882, 7.865423078816803, 11.17835394998058, 23.973826232820073, 7.396003462316909, 18.182465314094976, 13.106151874969916, 10.556685728014681, 25.55942159545827, 12.95245799309804, 47.54755604770676, 14.692323044653147, 21.909040621531513, 11.4451653820798, 9.954936975841122, 7.986325029094507, 6.166246539756818, 4.813770577186007, 4.3461700373931, 4.3461700373931, 3.697371793694559, 5.088149767075986, 5.3516569243682826, 2.759797801371405, 4.843031218419327, 2.526091349358014, 2.526091349358014, 2.526091349358014, 2.526091349358014, 2.526091349358014, 2.526091349358014, 2.526091349358014, 2.526091349358014, 2.526091349358014, 2.526091349358014, 2.526091349358014, 2.526091349358014, 2.52609095196322, 2.52609095196322, 2.52609095196322, 2.52609095196322, 2.5260881701996616, 2.5260881701996616, 19.09126118060826, 3.5057279493833544, 14.692323044653147, 14.835550454499776, 23.973826232820073, 18.43545763179589, 5.625303524408309, 10.941994160613632, 11.512648334103888, 3.7769523263495572, 12.95245799309804, 3.2939914194646316, 82.54822574465958, 3.568388266308466, 3.825616297908722, 74.0415205719442, 8.386598409208503, 3.9094867776354953, 4.450877967432161, 4.991751308865349, 15.37499211766619, 25.55942159545827, 21.909040621531513, 11.18051062626447, 3.118579148766894, 3.118566700007861, 2.843430574152333, 2.843430574152333, 2.843430574152333, 2.843430574152333, 2.8442691640151803, 2.8442691640151803, 2.8442691640151803, 2.8442691640151803, 2.8442691640151803, 2.8442691640151803, 2.8442691640151803, 2.8442691640151803, 2.8442691640151803, 3.3538245473703356, 3.721939994825474, 6.800850889298967, 3.6472194251201833, 1.2549125930399079, 1.2549125930399079, 1.2549125149939568, 1.2549117345344465, 1.2552230920392726, 2.0632818119518546, 1.4903327080649342, 0.9804549138719225, 0.9804549138719225, 0.9804549138719225, 5.052082678499918, 1.788832144901363, 1.7887633993111525, 82.54822574465958, 5.682085610298764, 8.124827744599859, 5.458584879207438, 47.54755604770676, 9.33343363862882, 3.3945394693092616, 3.3659129244383057, 13.106151874969916, 13.733398818226245, 11.17835394998058, 1.7055163030462586, 1.705876829412396, 2.911346721333155, 1.3723494748801475, 1.3723494748801475, 1.3723494748801475, 1.3723493971163028, 1.3723493971163028, 1.3723491638247687, 1.3722531129144346, 1.3722531129144346, 1.3722531129144346, 1.3722531129144346, 1.3722531129144346, 1.3722531129144346, 1.3722531129144346, 1.3722531129144346, 1.3722531129144346, 1.3722531129144346, 1.3729526582661262, 1.3729526582661262, 1.9806986724198121, 2.5741800581981984, 2.255743605597358, 1.039173587226129, 1.039173587226129, 1.039173587226129, 1.039173587226129, 1.039173587226129, 1.039173587226129, 1.8807218393188947, 2.7735864017378136, 1.9062689648802067, 1.906270192805647, 1.9061726029144939, 1.9061726728681674, 4.063992905182806, 9.742700643845676, 2.982698099250331, 7.310788515554402, 3.4301039375683624, 82.54822574465958, 3.760990079865607, 3.261006764012292, 14.835550454499776, 11.17835394998058, 5.213180968167142, 5.3295437239034245, 5.872215151399894, 5.3738574898459, 12.95245799309804, 23.973826232820073, 6.310317705373692, 10.941994160613632, 3.894531812755832, 2.782459124707935, 2.714674566074032, 4.450877967432161], \"Category\": [\"Default\", \"Default\", \"Default\", \"Default\", \"Default\", \"Default\", \"Default\", \"Default\", \"Default\", \"Default\", \"Default\", \"Default\", \"Default\", \"Default\", \"Default\", \"Default\", \"Default\", \"Default\", \"Default\", \"Default\", \"Default\", \"Default\", \"Default\", \"Default\", \"Default\", \"Default\", \"Default\", \"Default\", \"Default\", \"Default\", \"Topic1\", \"Topic1\", \"Topic1\", \"Topic1\", \"Topic1\", \"Topic1\", \"Topic1\", \"Topic1\", \"Topic1\", \"Topic1\", \"Topic1\", \"Topic1\", \"Topic1\", \"Topic1\", \"Topic1\", \"Topic1\", \"Topic1\", \"Topic1\", \"Topic1\", \"Topic1\", \"Topic1\", \"Topic1\", \"Topic1\", \"Topic1\", \"Topic1\", \"Topic1\", \"Topic1\", \"Topic1\", \"Topic1\", \"Topic1\", \"Topic1\", \"Topic1\", \"Topic1\", \"Topic1\", \"Topic1\", \"Topic1\", \"Topic1\", \"Topic1\", \"Topic1\", \"Topic1\", \"Topic1\", \"Topic1\", \"Topic1\", \"Topic1\", \"Topic1\", \"Topic1\", \"Topic2\", \"Topic2\", \"Topic2\", \"Topic2\", \"Topic2\", \"Topic2\", \"Topic2\", \"Topic2\", \"Topic2\", \"Topic2\", \"Topic2\", \"Topic2\", \"Topic2\", \"Topic2\", \"Topic2\", \"Topic2\", \"Topic2\", \"Topic2\", \"Topic2\", \"Topic2\", \"Topic2\", \"Topic2\", \"Topic2\", \"Topic2\", \"Topic2\", \"Topic2\", \"Topic2\", \"Topic2\", \"Topic2\", \"Topic2\", \"Topic2\", \"Topic2\", \"Topic2\", \"Topic2\", \"Topic2\", \"Topic2\", \"Topic2\", \"Topic2\", \"Topic2\", \"Topic2\", \"Topic2\", \"Topic2\", \"Topic2\", \"Topic2\", \"Topic2\", \"Topic2\", \"Topic2\", \"Topic2\", \"Topic2\", \"Topic2\", \"Topic2\", \"Topic3\", \"Topic3\", \"Topic3\", \"Topic3\", \"Topic3\", \"Topic3\", \"Topic3\", \"Topic3\", \"Topic3\", \"Topic3\", \"Topic3\", \"Topic3\", \"Topic3\", \"Topic3\", \"Topic3\", \"Topic3\", \"Topic3\", \"Topic3\", \"Topic3\", \"Topic3\", \"Topic3\", \"Topic3\", \"Topic3\", \"Topic3\", \"Topic3\", \"Topic3\", \"Topic3\", \"Topic3\", \"Topic3\", \"Topic3\", \"Topic3\", \"Topic3\", \"Topic3\", \"Topic3\", \"Topic3\", \"Topic3\", \"Topic3\", \"Topic3\", \"Topic3\", \"Topic3\", \"Topic3\", \"Topic3\", \"Topic3\", \"Topic3\", \"Topic3\", \"Topic3\", \"Topic3\", \"Topic3\", \"Topic3\", \"Topic3\", \"Topic3\", \"Topic3\", \"Topic3\", \"Topic4\", \"Topic4\", \"Topic4\", \"Topic4\", \"Topic4\", \"Topic4\", \"Topic4\", \"Topic4\", \"Topic4\", \"Topic4\", \"Topic4\", \"Topic4\", \"Topic4\", \"Topic4\", \"Topic4\", \"Topic4\", \"Topic4\", \"Topic4\", \"Topic4\", \"Topic4\", \"Topic4\", \"Topic4\", \"Topic4\", \"Topic4\", \"Topic4\", \"Topic4\", \"Topic4\", \"Topic4\", \"Topic4\", \"Topic4\", \"Topic4\", \"Topic4\", \"Topic4\", \"Topic4\", \"Topic4\", \"Topic4\", \"Topic4\", \"Topic4\", \"Topic4\", \"Topic4\", \"Topic4\", \"Topic4\", \"Topic4\", \"Topic4\", \"Topic5\", \"Topic5\", \"Topic5\", \"Topic5\", \"Topic5\", \"Topic5\", \"Topic5\", \"Topic5\", \"Topic5\", \"Topic5\", \"Topic5\", \"Topic5\", \"Topic5\", \"Topic5\", \"Topic5\", \"Topic5\", \"Topic5\", \"Topic5\", \"Topic5\", \"Topic5\", \"Topic5\", \"Topic5\", \"Topic5\", \"Topic5\", \"Topic5\", \"Topic5\", \"Topic5\", \"Topic5\", \"Topic5\", \"Topic5\", \"Topic5\", \"Topic5\", \"Topic5\", \"Topic5\", \"Topic5\", \"Topic5\", \"Topic5\", \"Topic5\", \"Topic5\", \"Topic5\", \"Topic5\", \"Topic5\", \"Topic5\", \"Topic5\", \"Topic5\", \"Topic5\", \"Topic5\", \"Topic5\", \"Topic5\", \"Topic5\", \"Topic5\", \"Topic5\", \"Topic5\", \"Topic5\", \"Topic5\", \"Topic5\", \"Topic5\", \"Topic5\"], \"logprob\": [30.0, 29.0, 28.0, 27.0, 26.0, 25.0, 24.0, 23.0, 22.0, 21.0, 20.0, 19.0, 18.0, 17.0, 16.0, 15.0, 14.0, 13.0, 12.0, 11.0, 10.0, 9.0, 8.0, 7.0, 6.0, 5.0, 4.0, 3.0, 2.0, 1.0, -4.5343, -4.949, -5.1423, -2.8592, -5.222, -5.4002, -5.4001, -5.4028, -5.4062, -5.4804, -5.5033, -5.5033, -5.5033, -5.5033, -5.5074, -5.5151, -5.5154, -5.6188, -5.6188, -5.6188, -5.6188, -5.6188, -5.6188, -5.6188, -5.7203, -4.7768, -5.3997, -6.0365, -5.0681, -5.3063, -3.4733, -4.334, -4.9987, -4.2963, -5.1741, -4.8748, -5.308, -5.2932, -4.7841, -3.8466, -4.8052, -5.175, -5.1322, -5.2872, -5.2844, -5.4856, -5.2435, -5.2435, -5.2435, -5.2435, -5.2435, -5.2435, -5.2435, -5.345, -5.4918, -5.2435, -5.663, -5.1288, -5.8671, -5.8694, -5.0227, -5.2179, -6.1289, -5.5652, -6.132, -6.1316, -6.1322, -6.1405, -5.8684, -5.6644, -5.3673, -4.2637, -6.4776, -6.4776, -6.4776, -6.4778, -5.7168, -5.8684, -5.8697, -6.1302, -4.7225, -5.6639, -5.5038, -3.4035, -5.1148, -5.244, -5.0781, -4.6648, -5.3706, -4.9366, -5.1204, -5.2435, -4.8777, -5.2045, -4.9158, -5.4091, -5.419, -3.6745, -3.8221, -4.0589, -4.3426, -4.6221, -4.7401, -4.7401, -4.9331, -4.6221, -4.623, -5.2944, -4.7401, -5.41, -5.41, -5.41, -5.41, -5.41, -5.41, -5.41, -5.41, -5.41, -5.41, -5.41, -5.41, -5.41, -5.41, -5.41, -5.41, -5.41, -5.41, -3.4737, -5.1008, -4.0452, -4.1167, -3.8114, -4.0065, -4.8611, -4.484, -4.5981, -5.2202, -4.6962, -5.2945, -3.9759, -5.2946, -5.2947, -4.6438, -5.1411, -5.3246, -5.3073, -5.2947, -5.2068, -5.2123, -5.2651, -3.5123, -4.8927, -4.8927, -5.0079, -5.0079, -5.0079, -5.0079, -5.0083, -5.0083, -5.0083, -5.0083, -5.0083, -5.0083, -5.0083, -5.0083, -5.0083, -4.8924, -4.9223, -4.3381, -5.0045, -6.242, -6.242, -6.242, -6.242, -6.2425, -5.8908, -6.224, -6.788, -6.788, -6.788, -5.2726, -6.242, -6.2426, -2.8253, -5.4563, -5.4145, -5.6314, -4.8735, -5.5091, -5.8908, -5.9079, -5.6267, -5.7219, -5.8154, -5.6933, -5.694, -5.2777, -6.0444, -6.0444, -6.0444, -6.0444, -6.0444, -6.0444, -6.0448, -6.0448, -6.0448, -6.0448, -6.0448, -6.0448, -6.0448, -6.0448, -6.0448, -6.0448, -6.0461, -6.0461, -5.6933, -5.4358, -5.6938, -6.5904, -6.5904, -6.5904, -6.5904, -6.5904, -6.5904, -6.0444, -5.6933, -6.0444, -6.0444, -6.0448, -6.0448, -5.4339, -4.7848, -5.7026, -5.2354, -5.6933, -4.5715, -5.6933, -5.7447, -5.3096, -5.447, -5.6933, -5.6934, -5.7034, -5.7768, -5.6933, -5.7152, -5.9672, -5.9726, -6.0444, -6.0444, -6.0444, -6.0444], \"loglift\": [30.0, 29.0, 28.0, 27.0, 26.0, 25.0, 24.0, 23.0, 22.0, 21.0, 20.0, 19.0, 18.0, 17.0, 16.0, 15.0, 14.0, 13.0, 12.0, 11.0, 10.0, 9.0, 8.0, 7.0, 6.0, 5.0, 4.0, 3.0, 2.0, 1.0, 0.8978, 0.879, 0.8663, 0.8643, 0.86, 0.8473, 0.8473, 0.8448, 0.8441, 0.8406, 0.8384, 0.8384, 0.8384, 0.8384, 0.8346, 0.8319, 0.8317, 0.8271, 0.8271, 0.8271, 0.8271, 0.8271, 0.8271, 0.8271, 0.816, 0.7984, 0.7931, 0.7747, 0.7616, 0.7425, 0.6931, 0.6072, 0.6693, 0.4908, 0.6926, 0.5335, 0.6668, 0.647, 0.3435, -0.2318, 0.3086, 0.4097, 0.3229, 0.4644, -0.4332, 0.15, 1.2637, 1.2637, 1.2637, 1.2637, 1.2637, 1.2637, 1.2637, 1.2516, 1.2313, 1.2134, 1.2053, 1.1753, 1.17, 1.1685, 1.1633, 1.1335, 1.112, 1.1116, 1.1111, 1.1107, 1.1101, 1.0999, 1.0721, 1.0457, 1.033, 1.0317, 1.02, 1.02, 1.0199, 1.0198, 0.9937, 0.9884, 0.9826, 0.9946, 0.851, 0.9456, 0.9087, 0.2113, 0.6797, 0.7216, 0.5361, 0.1863, 0.6566, 0.1911, 0.3346, 0.4279, -0.0906, 0.2624, -0.7494, -0.0683, -0.4777, 1.916, 1.908, 1.8915, 1.8664, 1.8346, 1.8187, 1.8187, 1.7874, 1.7791, 1.7278, 1.7186, 1.7104, 1.6915, 1.6915, 1.6915, 1.6915, 1.6915, 1.6915, 1.6915, 1.6915, 1.6915, 1.6915, 1.6915, 1.6915, 1.6915, 1.6915, 1.6915, 1.6915, 1.6915, 1.6915, 1.6052, 1.6729, 1.2956, 1.2144, 1.0397, 1.1073, 1.4398, 1.1516, 0.9866, 1.479, 0.7707, 1.5415, -0.3611, 1.4614, 1.3917, -0.9203, 0.7604, 1.3402, 1.2277, 1.1257, 0.0886, -0.4252, -0.3239, 2.1016, 1.9981, 1.9981, 1.9752, 1.9752, 1.9752, 1.9752, 1.9745, 1.9745, 1.9745, 1.9745, 1.9745, 1.9745, 1.9745, 1.9745, 1.9745, 1.9256, 1.7916, 1.773, 1.7296, 1.5591, 1.5591, 1.5591, 1.5591, 1.5583, 1.413, 1.4051, 1.2599, 1.2599, 1.2599, 1.1357, 1.2046, 1.204, 0.7894, 0.8345, 0.5187, 0.6995, -0.7071, 0.2854, 0.9152, 0.9065, -0.1717, -0.3136, -0.2013, 1.801, 1.8001, 1.6818, 1.6672, 1.6672, 1.6672, 1.6672, 1.6672, 1.6672, 1.6669, 1.6669, 1.6669, 1.6669, 1.6669, 1.6669, 1.6669, 1.6669, 1.6669, 1.6669, 1.6651, 1.6651, 1.6514, 1.6468, 1.5208, 1.3993, 1.3993, 1.3993, 1.3993, 1.3993, 1.3993, 1.352, 1.3147, 1.3385, 1.3385, 1.3382, 1.3382, 1.1921, 0.9668, 1.2327, 0.8034, 1.1023, -0.9568, 1.0102, 1.1014, 0.0215, 0.1672, 0.6837, 0.6614, 0.5545, 0.5698, -0.2264, -0.8641, 0.2187, -0.337, 0.6241, 0.9604, 0.985, 0.4906]}, \"token.table\": {\"Topic\": [1, 3, 1, 2, 5, 3, 4, 1, 1, 2, 3, 3, 5, 4, 1, 4, 2, 4, 2, 1, 4, 3, 1, 5, 1, 5, 1, 3, 1, 4, 2, 5, 2, 1, 3, 5, 1, 2, 2, 5, 1, 4, 1, 2, 3, 5, 1, 5, 1, 2, 4, 3, 2, 5, 1, 2, 3, 1, 1, 2, 3, 4, 5, 1, 2, 3, 5, 1, 2, 5, 5, 1, 3, 4, 2, 3, 1, 2, 5, 4, 1, 2, 4, 1, 5, 5, 1, 3, 4, 2, 5, 1, 2, 4, 3, 3, 2, 5, 1, 4, 4, 1, 2, 4, 4, 1, 3, 4, 4, 3, 5, 3, 5, 2, 4, 3, 1, 3, 5, 2, 3, 1, 5, 5, 3, 1, 2, 5, 1, 5, 2, 1, 2, 3, 1, 2, 3, 4, 5, 1, 4, 3, 1, 2, 3, 5, 5, 3, 5, 2, 1, 1, 3, 4, 1, 1, 5, 1, 5, 2, 4, 5, 1, 2, 1, 2, 5, 2, 2, 5, 5, 1, 2, 5, 5, 3, 1, 4, 5, 1, 1, 2, 5, 1, 2, 3, 1, 2, 4, 1, 2, 3, 2, 4, 1, 2, 3, 1, 3, 1, 2, 4, 5, 1, 4, 1, 3, 4, 3, 4, 1, 4, 2, 3, 1, 1, 2, 4, 5, 4, 1, 2, 4, 2, 5, 1, 3, 1, 2, 3, 5, 5, 3, 3, 4, 3, 1, 4, 1, 2, 3, 2, 4, 2, 4, 1, 3, 4, 1, 5, 1, 2, 4, 3, 5, 2, 1, 2, 1, 2, 3, 4, 1, 2, 2, 1, 2, 5, 2, 1, 2, 1, 2, 1, 5, 1, 2, 3, 1, 2, 1, 1, 2, 3, 5, 1, 2, 5, 3, 2, 5, 1, 2, 3, 5, 4, 1, 2, 3, 5, 2, 5, 2, 4, 1, 2, 5, 2, 2, 1, 2, 1, 2, 3, 1, 2, 3, 1, 5, 3, 2, 1, 2, 3, 5, 1, 2, 4, 3, 1, 1, 1, 3, 1, 2, 1, 4, 3, 1, 5, 1, 3, 4, 4], \"Freq\": [0.18685801689689618, 0.7474320675875847, 0.37526664637909657, 0.37526664637909657, 0.18763332318954828, 0.2940808484930862, 0.5881616969861724, 0.8569463126032228, 0.2041882683141632, 0.2041882683141632, 0.47643929273304747, 0.791737005278247, 0.5862087946551561, 0.7966711306875102, 0.8884380495074397, 0.7033757103762691, 0.588240654285763, 0.8945011754870236, 0.742957108254079, 0.9290187327707251, 0.703168330657093, 0.791737005278247, 0.3683682797552423, 0.3683682797552423, 0.3605440232088828, 0.3605440232088828, 0.8426797752848924, 0.791737005278247, 0.7039668661010688, 0.1759917165252672, 0.7478924493688343, 0.18697311234220856, 0.7424217090503485, 0.45695509672247875, 0.45695509672247875, 0.09139101934449576, 0.769858222565054, 0.12830970376084233, 0.8739800465796072, 0.7287285345457649, 0.5590239435546035, 0.5590239435546035, 0.33702827645896, 0.067405655291792, 0.471839587042544, 0.134811310583584, 0.9307425288737492, 0.7287285345457649, 0.5495929927603483, 0.18319766425344944, 0.18319766425344944, 0.9203505536104754, 0.7923531323537225, 0.1584706264707445, 0.5499804249453477, 0.3299882549672086, 0.10999608498906954, 0.7977759074455354, 0.3149673995468287, 0.3149673995468287, 0.09691304601440882, 0.24228261503602205, 0.036342392255403304, 0.8425821446268736, 0.22467477367772645, 0.4493495473554529, 0.22467477367772645, 0.822032296183057, 0.9097730714081305, 0.7286773655721578, 0.7287285345457649, 0.9319095484128329, 0.054023741936975817, 0.013505935484243954, 0.20648225355160543, 0.8259290142064217, 0.8060905285908941, 0.11515578979869916, 0.11515578979869916, 0.7033757103762691, 0.3814162277016751, 0.5085549702689002, 0.703168330657093, 0.8449983892720561, 0.7287285345457649, 0.7286773655721578, 0.26139579145630765, 0.5227915829126153, 0.703168330657093, 0.9122224682687846, 0.5048723533389881, 0.4923181297792544, 0.2461590648896272, 0.1230795324448136, 0.8557423859794054, 0.786140381692948, 0.7261085464635448, 0.24203618215451494, 0.08944135321072638, 0.8944135321072638, 0.703168330657093, 0.5341003268372447, 0.3815002334551748, 0.07630004669103496, 0.703168330657093, 0.2802385630066288, 0.5604771260132576, 0.9619803866925271, 0.7033757103762691, 0.791737005278247, 0.7287285345457649, 0.8113871602299109, 0.7286773655721578, 0.617109028332517, 0.3085545141662585, 0.7917380017032106, 0.8427497239025942, 0.9611045041973081, 0.7287285345457649, 0.2647637337182132, 0.5295274674364264, 0.5246114448253665, 0.5246114448253665, 0.7287285345457649, 0.7917380017032106, 0.265887433565295, 0.265887433565295, 0.265887433565295, 0.9261757893275581, 0.7287285345457649, 0.9115369319608305, 0.54083262945728, 0.54083262945728, 0.791737005278247, 0.7302921326585019, 0.1369297748734691, 0.09128651658231274, 0.703168330657093, 0.5317107395116712, 0.2686770881288459, 0.5373541762576918, 0.7917371298312302, 0.19182146296210037, 0.38364292592420074, 0.19182146296210037, 0.19182146296210037, 0.7287285345457649, 0.791737005278247, 0.7287285345457649, 0.8135424383745251, 0.822032296183057, 0.9258984176231665, 0.7246907722754744, 0.79686824847107, 0.9308662815349205, 0.887764144700267, 0.11097051808753337, 0.5245846070373691, 0.5245846070373691, 0.911559759129571, 0.44331279384705763, 0.44331279384705763, 0.8604560632903152, 0.08604560632903152, 0.17834617611556605, 0.8917308805778302, 0.586332712395583, 0.8104551583099541, 0.7854103748109719, 0.19635259370274297, 0.7286775307334884, 0.6158456694233044, 0.10264094490388408, 0.3079228347116522, 0.7286774068624834, 0.791737005278247, 0.5471366038683265, 0.13678415096708163, 0.27356830193416326, 0.9971083882955428, 0.37217213217489914, 0.37217213217489914, 0.18608606608744957, 0.5424329680188064, 0.054243296801880635, 0.4339463744150451, 0.6553366809719144, 0.2184455603239715, 0.07281518677465716, 0.822032296183057, 0.8739800465796072, 0.7917371298312302, 0.7767408068133638, 0.25891360227112126, 0.13008136750209828, 0.7154475212615405, 0.13008136750209828, 0.3035830615984206, 0.6071661231968412, 0.8998801857524102, 0.3352669183151118, 0.3352669183151118, 0.3352669183151118, 0.5941924360190496, 0.2970962180095248, 0.9258984176231665, 0.2741814745536041, 0.5483629491072082, 0.9730392648615418, 0.6709911113058855, 0.5590454279113141, 0.5590454279113141, 0.940622835962061, 0.7917371298312302, 0.9693795623237477, 0.3578344376907969, 0.44729304711349616, 0.08945860942269923, 0.08945860942269923, 0.703168330657093, 0.2945907711609213, 0.2945907711609213, 0.2945907711609213, 0.9102446673973942, 0.7283572335719715, 0.9258984176231665, 0.791737005278247, 0.10475997269533341, 0.15713995904300013, 0.6809398225196671, 0.7286774068624834, 0.7283572335719715, 0.8764982610272829, 0.9040740309899916, 0.703168330657093, 0.7917371298312302, 0.5938145099578558, 0.3958763399719038, 0.3789067992604011, 0.3789067992604011, 0.18945339963020055, 0.8029796425833761, 0.26765988086112535, 0.8739800465796072, 0.796868793621557, 0.608026910651298, 0.34744394894359887, 0.7968682980301743, 0.5246114640778191, 0.5246114640778191, 0.3099460314772696, 0.6198920629545392, 0.703168330657093, 0.35939431818426676, 0.35939431818426676, 0.5882925601625942, 0.19875618094899924, 0.5962685428469977, 0.7781682819381107, 0.12618945112509905, 0.04206315037503301, 0.06309472556254953, 0.822032296183057, 0.588240941337691, 0.588240654285763, 0.2460634216966031, 0.4921268433932062, 0.2460634216966031, 0.8739800465796072, 0.3435773641585873, 0.6012603872775277, 0.26777081587944734, 0.803312447638342, 0.6811739517150404, 0.1702934879287601, 0.822032296183057, 0.8311448131009215, 0.8309494471874656, 0.7436414778021389, 0.24788049260071296, 0.9068885435109726, 0.2502729410704589, 0.2919850979155354, 0.37540941160568836, 0.04171215684507648, 0.3066537644250745, 0.3066537644250745, 0.3066537644250745, 0.9203505536104754, 0.3434836505979896, 0.6869673011959792, 0.20033049287211088, 0.20033049287211088, 0.40066098574422176, 0.20033049287211088, 0.79686824847107, 0.6259922565244234, 0.23474709619665876, 0.07824903206555292, 0.03912451603277646, 0.5830727104490663, 0.29153635522453314, 0.8739800465796072, 0.9619765466546581, 0.25677027382975315, 0.5135405476595063, 0.25677027382975315, 0.6740266443600247, 0.8739800465796072, 0.7552760592064759, 0.18881901480161897, 0.8289218059270026, 0.1381536343211671, 0.791737005278247, 0.4769514175864188, 0.1192378543966047, 0.2384757087932094, 0.38847321375799626, 0.38847321375799626, 0.791737005278247, 0.9557771366133094, 0.308821692541406, 0.308821692541406, 0.308821692541406, 0.0772054231353515, 0.3214251170741416, 0.5357085284569026, 0.10714170569138054, 0.791737005278247, 0.822032296183057, 0.9258984176231665, 0.25578805016570794, 0.5115761003314159, 0.822032296183057, 0.8739800465796072, 0.4846647676567288, 0.4846647676567288, 0.791737005278247, 0.5245849449491728, 0.5245849449491728, 0.17776818542519157, 0.5333045562755747, 0.17776818542519157, 0.7033757103762691], \"Term\": [\"access\", \"access\", \"activity\", \"activity\", \"activity\", \"advertising\", \"advertising\", \"aesthetics\", \"agriculture\", \"agriculture\", \"agriculture\", \"ai\", \"aimed\", \"aims\", \"analyzing\", \"angles\", \"another\", \"answer\", \"anyone\", \"applications\", \"applying\", \"appreciate\", \"art\", \"art\", \"assumes\", \"assumes\", \"attention\", \"becoming\", \"behalf\", \"behalf\", \"believe\", \"believe\", \"best\", \"beyond\", \"beyond\", \"beyond\", \"biases\", \"biases\", \"broad\", \"campaigns\", \"cds\", \"cds\", \"changing\", \"changing\", \"changing\", \"changing\", \"claims\", \"cold\", \"collaborations\", \"collaborations\", \"collaborations\", \"combining\", \"commercial\", \"commercial\", \"complexities\", \"complexities\", \"complexities\", \"comprehensive\", \"computational\", \"computational\", \"computational\", \"computational\", \"computational\", \"connects\", \"consider\", \"consider\", \"consider\", \"consideration\", \"considerations\", \"converters\", \"corporate\", \"courses\", \"courses\", \"courses\", \"creatively\", \"creatively\", \"cross\", \"cross\", \"cross\", \"deception\", \"decision_making\", \"decision_making\", \"defined\", \"democratic\", \"depending\", \"design\", \"designed\", \"designed\", \"development\", \"different\", \"digester\", \"digital\", \"digital\", \"digital\", \"disciplines\", \"discovery\", \"disparate\", \"disparate\", \"disruptions\", \"disruptions\", \"distribute\", \"dog\", \"dog\", \"dog\", \"domain\", \"driven\", \"driven\", \"economic\", \"education\", \"elegant\", \"embraced\", \"encourage\", \"engages\", \"ensemble\", \"ensemble\", \"ensure\", \"entangle\", \"entities\", \"equal\", \"equipped\", \"equipped\", \"erosion\", \"erosion\", \"especially\", \"everyone\", \"evidence\", \"evidence\", \"evidence\", \"examine\", \"example\", \"excellent\", \"experience\", \"experience\", \"experiences\", \"expert\", \"expert\", \"expert\", \"exploratory\", \"explore\", \"external\", \"external\", \"faced\", \"fail\", \"fail\", \"fail\", \"fail\", \"feared\", \"fixture\", \"force\", \"founders\", \"fundamentals\", \"funds\", \"gather\", \"generation\", \"genetics\", \"grades\", \"grades\", \"greeted\", \"greeted\", \"growing\", \"hacking\", \"hacking\", \"health\", \"health\", \"helping\", \"helping\", \"hopes\", \"however\", \"human\", \"human\", \"identities\", \"identity\", \"identity\", \"identity\", \"illness\", \"impacts\", \"implications\", \"implications\", \"implications\", \"importance\", \"including\", \"including\", \"including\", \"industrial\", \"industrial\", \"industrial\", \"industry\", \"industry\", \"industry\", \"info\", \"informatics\", \"ing\", \"intellectual\", \"intellectual\", \"intelligence\", \"intelligence\", \"intelligence\", \"intend\", \"intend\", \"interactions\", \"intervals\", \"intervals\", \"intervals\", \"investigative\", \"investigative\", \"involving\", \"iteration\", \"iteration\", \"iterative\", \"journalists\", \"justice\", \"justice\", \"knowing\", \"landscape\", \"legal\", \"leverage\", \"leverage\", \"leverage\", \"leverage\", \"leveraging\", \"lifecycle\", \"lifecycle\", \"lifecycle\", \"limits\", \"lives\", \"logic\", \"loop\", \"machine\", \"machine\", \"machine\", \"map\", \"mechanics\", \"media\", \"nan\", \"network\", \"networked\", \"neutral\", \"neutral\", \"non\", \"non\", \"non\", \"official\", \"official\", \"offs\", \"opportunity\", \"organizing\", \"organizing\", \"perhaps\", \"personal\", \"personal\", \"placements\", \"placements\", \"playing\", \"policy\", \"policy\", \"politics\", \"prior\", \"prior\", \"programs\", \"programs\", \"programs\", \"programs\", \"pursuit\", \"question\", \"rapidly\", \"reasoning\", \"reasoning\", \"reasoning\", \"recognizing\", \"regimes\", \"regimes\", \"regulatory\", \"regulatory\", \"relate\", \"relate\", \"related\", \"resilience\", \"role\", \"sciences\", \"sciences\", \"second\", \"sectoral\", \"sectoral\", \"sectoral\", \"sectoral\", \"services\", \"services\", \"services\", \"several\", \"shape\", \"shape\", \"society\", \"society\", \"society\", \"society\", \"socio\", \"solutions\", \"solutions\", \"solutions\", \"solutions\", \"spring\", \"spring\", \"stakeholders\", \"structure\", \"study\", \"study\", \"study\", \"summer\", \"survey\", \"survive\", \"survive\", \"tackling\", \"tackling\", \"team\", \"teams\", \"teams\", \"teams\", \"techniques\", \"techniques\", \"theories\", \"thompson\", \"tools\", \"tools\", \"tools\", \"tools\", \"transparent\", \"transparent\", \"transparent\", \"tries\", \"ucd\", \"undergraduate\", \"unit\", \"unit\", \"ux\", \"value\", \"variations\", \"variations\", \"vision\", \"whether\", \"whether\", \"work\", \"work\", \"work\", \"workplace\"]}, \"R\": 30, \"lambda.step\": 0.01, \"plot.opts\": {\"xlab\": \"PC1\", \"ylab\": \"PC2\"}, \"topic.order\": [4, 3, 5, 2, 1]};\n",
       "\n",
       "function LDAvis_load_lib(url, callback){\n",
       "  var s = document.createElement('script');\n",
       "  s.src = url;\n",
       "  s.async = true;\n",
       "  s.onreadystatechange = s.onload = callback;\n",
       "  s.onerror = function(){console.warn(\"failed to load library \" + url);};\n",
       "  document.getElementsByTagName(\"head\")[0].appendChild(s);\n",
       "}\n",
       "\n",
       "if(typeof(LDAvis) !== \"undefined\"){\n",
       "   // already loaded: just create the visualization\n",
       "   !function(LDAvis){\n",
       "       new LDAvis(\"#\" + \"ldavis_el1501630352865680643916302706\", ldavis_el1501630352865680643916302706_data);\n",
       "   }(LDAvis);\n",
       "}else if(typeof define === \"function\" && define.amd){\n",
       "   // require.js is available: use it to load d3/LDAvis\n",
       "   require.config({paths: {d3: \"https://d3js.org/d3.v5\"}});\n",
       "   require([\"d3\"], function(d3){\n",
       "      window.d3 = d3;\n",
       "      LDAvis_load_lib(\"https://cdn.jsdelivr.net/gh/bmabey/pyLDAvis@3.3.1/pyLDAvis/js/ldavis.v3.0.0.js\", function(){\n",
       "        new LDAvis(\"#\" + \"ldavis_el1501630352865680643916302706\", ldavis_el1501630352865680643916302706_data);\n",
       "      });\n",
       "    });\n",
       "}else{\n",
       "    // require.js not available: dynamically load d3 & LDAvis\n",
       "    LDAvis_load_lib(\"https://d3js.org/d3.v5.js\", function(){\n",
       "         LDAvis_load_lib(\"https://cdn.jsdelivr.net/gh/bmabey/pyLDAvis@3.3.1/pyLDAvis/js/ldavis.v3.0.0.js\", function(){\n",
       "                 new LDAvis(\"#\" + \"ldavis_el1501630352865680643916302706\", ldavis_el1501630352865680643916302706_data);\n",
       "            })\n",
       "         });\n",
       "}\n",
       "</script>"
      ],
      "text/plain": [
       "PreparedData(topic_coordinates=              x         y  topics  cluster       Freq\n",
       "topic                                                \n",
       "3      0.040076 -0.127371       1        1  39.197487\n",
       "2      0.046247  0.019168       2        1  25.058958\n",
       "4     -0.170443  0.002755       3        1  13.917137\n",
       "1      0.048563  0.072147       4        1  10.932968\n",
       "0      0.035556  0.033301       5        1  10.893450, topic_info=              Term       Freq      Total Category  logprob  loglift\n",
       "11         courses  74.000000  74.000000  Default  30.0000  30.0000\n",
       "9    computational  82.000000  82.000000  Default  29.0000  29.0000\n",
       "90         machine  19.000000  19.000000  Default  28.0000  28.0000\n",
       "400    disruptions  11.000000  11.000000  Default  27.0000  27.0000\n",
       "272       entities  11.000000  11.000000  Default  26.0000  26.0000\n",
       "..             ...        ...        ...      ...      ...      ...\n",
       "255         beyond   0.850916  10.941994   Topic5  -5.9726  -0.3370\n",
       "113          study   0.791902   3.894532   Topic5  -6.0444   0.6241\n",
       "139         policy   0.791902   2.782459   Topic5  -6.0444   0.9604\n",
       "152            art   0.791902   2.714675   Topic5  -6.0444   0.9850\n",
       "159       consider   0.791902   4.450878   Topic5  -6.0444   0.4906\n",
       "\n",
       "[282 rows x 6 columns], token_table=      Topic      Freq       Term\n",
       "term                            \n",
       "46        1  0.186858     access\n",
       "46        3  0.747432     access\n",
       "345       1  0.375267   activity\n",
       "345       2  0.375267   activity\n",
       "345       5  0.187633   activity\n",
       "...     ...       ...        ...\n",
       "671       5  0.524585    whether\n",
       "250       1  0.177768       work\n",
       "250       3  0.533305       work\n",
       "250       4  0.177768       work\n",
       "1382      4  0.703376  workplace\n",
       "\n",
       "[344 rows x 3 columns], R=30, lambda_step=0.01, plot_opts={'xlab': 'PC1', 'ylab': 'PC2'}, topic_order=[4, 3, 5, 2, 1])"
      ]
     },
     "execution_count": 22,
     "metadata": {},
     "output_type": "execute_result"
    }
   ],
   "source": [
    "# Visualize the topics\n",
    "\n",
    "pyLDAvis.enable_notebook()\n",
    "vis_bi = gensimvis.prepare(lda_model_bi, corpus_bi, id2word_bi)\n",
    "vis_bi"
   ]
  },
  {
   "cell_type": "code",
   "execution_count": null,
   "metadata": {},
   "outputs": [],
   "source": []
  },
  {
   "cell_type": "markdown",
   "metadata": {},
   "source": [
    "##### 3. Using Trigram corpus"
   ]
  },
  {
   "cell_type": "code",
   "execution_count": 23,
   "metadata": {},
   "outputs": [
    {
     "name": "stdout",
     "output_type": "stream",
     "text": [
      "[(1, 1), (4, 1), (5, 2), (6, 1), (7, 1), (8, 1), (10, 1), (11, 1), (12, 1), (15, 1), (16, 1), (17, 1), (18, 1), (19, 1), (20, 1), (21, 1), (23, 2), (24, 2), (25, 1), (26, 1), (28, 1), (30, 1), (32, 1), (34, 1), (36, 1), (37, 1), (38, 1), (39, 1), (40, 1), (41, 1), (42, 1)]\n"
     ]
    }
   ],
   "source": [
    "# Create Dictionary \n",
    "id2word_tri = corpora.Dictionary(data_words_trigrams)  \n",
    "\n",
    "# Create Corpus \n",
    "texts_tri = data_words_trigrams  \n",
    "\n",
    "# Term Document Frequency \n",
    "corpus_tri = [id2word.doc2bow(text) for text in texts_tri]  \n",
    "\n",
    "# View \n",
    "print(corpus_tri[1])"
   ]
  },
  {
   "cell_type": "code",
   "execution_count": 24,
   "metadata": {},
   "outputs": [
    {
     "data": {
      "text/plain": [
       "'journalists'"
      ]
     },
     "execution_count": 24,
     "metadata": {},
     "output_type": "execute_result"
    }
   ],
   "source": [
    "id2word_tri[24]"
   ]
  },
  {
   "cell_type": "code",
   "execution_count": 25,
   "metadata": {},
   "outputs": [],
   "source": [
    "lda_model_tri = gensim.models.ldamodel.LdaModel(corpus=corpus_tri,\n",
    "                                                id2word=id2word_tri,\n",
    "                                                num_topics=5,\n",
    "                                                random_state=100,\n",
    "                                                update_every=1,\n",
    "                                                chunksize=100,\n",
    "                                                passes=50,\n",
    "                                                alpha='auto',\n",
    "                                                per_word_topics=True)"
   ]
  },
  {
   "cell_type": "code",
   "execution_count": 26,
   "metadata": {},
   "outputs": [
    {
     "name": "stdout",
     "output_type": "stream",
     "text": [
      "[(0,\n",
      "  '0.010*\"computational\" + 0.008*\"identity\" + 0.005*\"implications\" + '\n",
      "  '0.005*\"shape\" + 0.005*\"changing\" + 0.004*\"reasoning\" + 0.004*\"techniques\" + '\n",
      "  '0.004*\"leverage\" + 0.003*\"hopes\" + 0.003*\"digester\"'),\n",
      " (1,\n",
      "  '0.059*\"computational\" + 0.030*\"disruptions\" + 0.013*\"advertising\" + '\n",
      "  '0.008*\"programs\" + 0.008*\"answer\" + 0.008*\"structure\" + 0.008*\"economic\" + '\n",
      "  '0.007*\"external\" + 0.007*\"iteration\" + 0.007*\"angles\"'),\n",
      " (2,\n",
      "  '0.033*\"computational\" + 0.014*\"intelligence\" + 0.009*\"sectoral\" + '\n",
      "  '0.009*\"regimes\" + 0.008*\"solutions\" + 0.007*\"programs\" + '\n",
      "  '0.007*\"complexities\" + 0.007*\"commercial\" + 0.006*\"leverage\" + '\n",
      "  '0.006*\"transparent\"'),\n",
      " (3,\n",
      "  '0.057*\"courses\" + 0.031*\"programs\" + 0.021*\"computational\" + '\n",
      "  '0.014*\"solutions\" + 0.013*\"expert\" + 0.011*\"legal\" + 0.008*\"health\" + '\n",
      "  '0.008*\"complexities\" + 0.008*\"industrial\" + 0.008*\"industry\"'),\n",
      " (4,\n",
      "  '0.031*\"machine\" + 0.025*\"entities\" + 0.022*\"sectoral\" + 0.022*\"nan\" + '\n",
      "  '0.019*\"computational\" + 0.018*\"industrial\" + 0.018*\"agriculture\" + '\n",
      "  '0.017*\"media\" + 0.016*\"changing\" + 0.013*\"iterative\"')]\n"
     ]
    }
   ],
   "source": [
    "# Print the keyword of topics\n",
    "\n",
    "pprint(lda_model_tri.print_topics())\n",
    "doc_lda_tri = lda_model_tri[corpus_tri]"
   ]
  },
  {
   "cell_type": "code",
   "execution_count": 27,
   "metadata": {},
   "outputs": [
    {
     "name": "stdout",
     "output_type": "stream",
     "text": [
      "\n",
      "Perplexity:  -7.224387913538946\n",
      "\n",
      "Coherence Score:  0.698700849262069\n"
     ]
    }
   ],
   "source": [
    "# Compute Perplexity\n",
    "print('\\nPerplexity: ', lda_model_tri.log_perplexity(corpus_tri))  \n",
    "# a measure of how good the model is. lower the better.\n",
    "\n",
    "# Compute Coherence Score\n",
    "coherence_model_lda_tri = CoherenceModel(model=lda_model_tri, texts=data_words_trigrams, dictionary=id2word_tri, coherence='c_v')\n",
    "coherence_lda_tri = coherence_model_lda_tri.get_coherence()\n",
    "print('\\nCoherence Score: ', coherence_lda_tri)"
   ]
  },
  {
   "cell_type": "code",
   "execution_count": 28,
   "metadata": {},
   "outputs": [
    {
     "name": "stderr",
     "output_type": "stream",
     "text": [
      "C:\\Users\\Rupesh ChV\\anaconda3\\lib\\site-packages\\pyLDAvis\\_prepare.py:246: FutureWarning: In a future version of pandas all arguments of DataFrame.drop except for the argument 'labels' will be keyword-only.\n",
      "  default_term_info = default_term_info.sort_values(\n"
     ]
    },
    {
     "data": {
      "text/html": [
       "\n",
       "<link rel=\"stylesheet\" type=\"text/css\" href=\"https://cdn.jsdelivr.net/gh/bmabey/pyLDAvis@3.3.1/pyLDAvis/js/ldavis.v1.0.0.css\">\n",
       "\n",
       "\n",
       "<div id=\"ldavis_el1501630352865688488469974521\"></div>\n",
       "<script type=\"text/javascript\">\n",
       "\n",
       "var ldavis_el1501630352865688488469974521_data = {\"mdsDat\": {\"x\": [0.04007646521632252, 0.046247449630760024, -0.17044300214206198, 0.048563193413052604, 0.0355558938819267], \"y\": [-0.1273709894404581, 0.019167797117731557, 0.0027552483745756197, 0.07214673525588118, 0.033301208692270004], \"topics\": [1, 2, 3, 4, 5], \"cluster\": [1, 1, 1, 1, 1], \"Freq\": [39.197487191235325, 25.05895819441567, 13.917136648746226, 10.932968237181813, 10.893449728420965]}, \"tinfo\": {\"Term\": [\"courses\", \"computational\", \"machine\", \"disruptions\", \"entities\", \"nan\", \"industrial\", \"sectoral\", \"media\", \"agriculture\", \"changing\", \"iterative\", \"advertising\", \"intelligence\", \"programs\", \"organizing\", \"beyond\", \"legal\", \"role\", \"access\", \"identity\", \"discovery\", \"combining\", \"several\", \"creatively\", \"external\", \"structure\", \"economic\", \"encourage\", \"work\", \"legal\", \"importance\", \"applications\", \"courses\", \"aesthetics\", \"attention\", \"connects\", \"entangle\", \"democratic\", \"second\", \"logic\", \"undergraduate\", \"involving\", \"funds\", \"examine\", \"claims\", \"genetics\", \"info\", \"related\", \"pursuit\", \"ucd\", \"ux\", \"consideration\", \"fundamentals\", \"interactions\", \"health\", \"comprehensive\", \"analyzing\", \"grades\", \"tackling\", \"programs\", \"expert\", \"survive\", \"solutions\", \"cross\", \"industry\", \"biases\", \"sciences\", \"complexities\", \"computational\", \"industrial\", \"organizing\", \"dog\", \"identity\", \"sectoral\", \"beyond\", \"broad\", \"informatics\", \"offs\", \"recognizing\", \"stakeholders\", \"survey\", \"value\", \"thompson\", \"founders\", \"resilience\", \"knowing\", \"helping\", \"best\", \"anyone\", \"commercial\", \"believe\", \"limits\", \"intellectual\", \"different\", \"excellent\", \"growing\", \"considerations\", \"summer\", \"official\", \"human\", \"intelligence\", \"rapidly\", \"another\", \"question\", \"politics\", \"regulatory\", \"placements\", \"ensemble\", \"however\", \"regimes\", \"disparate\", \"prior\", \"computational\", \"transparent\", \"decision_making\", \"leverage\", \"sectoral\", \"experience\", \"complexities\", \"dog\", \"non\", \"solutions\", \"tools\", \"programs\", \"agriculture\", \"expert\", \"entities\", \"nan\", \"media\", \"iterative\", \"role\", \"combining\", \"several\", \"encourage\", \"discovery\", \"access\", \"gather\", \"creatively\", \"tries\", \"vision\", \"ai\", \"becoming\", \"fixture\", \"theories\", \"experiences\", \"impacts\", \"loop\", \"elegant\", \"team\", \"appreciate\", \"landscape\", \"networked\", \"faced\", \"ing\", \"ensure\", \"everyone\", \"machine\", \"disciplines\", \"agriculture\", \"changing\", \"sectoral\", \"industrial\", \"work\", \"beyond\", \"organizing\", \"equipped\", \"tools\", \"intend\", \"computational\", \"driven\", \"designed\", \"courses\", \"teams\", \"unit\", \"consider\", \"society\", \"intelligence\", \"solutions\", \"expert\", \"disruptions\", \"structure\", \"economic\", \"workplace\", \"angles\", \"deception\", \"education\", \"development\", \"leveraging\", \"playing\", \"applying\", \"domain\", \"exploratory\", \"network\", \"defined\", \"distribute\", \"answer\", \"external\", \"advertising\", \"iteration\", \"generation\", \"socio\", \"perhaps\", \"opportunity\", \"aims\", \"variations\", \"journalists\", \"security\", \"exploited\", \"group\", \"neutral\", \"cds\", \"justice\", \"computational\", \"behalf\", \"digital\", \"collaborations\", \"programs\", \"transparent\", \"lifecycle\", \"investigative\", \"dog\", \"industry\", \"leverage\", \"hopes\", \"aimed\", \"shape\", \"design\", \"engages\", \"converters\", \"illness\", \"map\", \"identities\", \"campaigns\", \"cold\", \"corporate\", \"depending\", \"embraced\", \"equal\", \"especially\", \"example\", \"feared\", \"force\", \"lives\", \"mechanics\", \"digester\", \"techniques\", \"hacking\", \"futures\", \"name\", \"placed\", \"policies\", \"really\", \"skill\", \"explore\", \"assumes\", \"whether\", \"greeted\", \"personal\", \"erosion\", \"reasoning\", \"identity\", \"intervals\", \"implications\", \"spring\", \"computational\", \"evidence\", \"services\", \"changing\", \"leverage\", \"fail\", \"activity\", \"relate\", \"including\", \"tools\", \"sectoral\", \"commercial\", \"beyond\", \"study\", \"policy\", \"art\", \"consider\"], \"Freq\": [74.0, 82.0, 19.0, 11.0, 11.0, 9.0, 18.0, 23.0, 7.0, 14.0, 14.0, 6.0, 6.0, 15.0, 47.0, 11.0, 10.0, 13.0, 4.0, 5.0, 9.0, 5.0, 4.0, 4.0, 4.0, 3.0, 3.0, 3.0, 3.0, 5.0, 12.900976245374986, 8.521444244339415, 7.023851376290202, 68.87823603871722, 6.485292593634052, 5.427021107618068, 5.427484480751972, 5.4129083736919945, 5.394685161905385, 5.008700937657317, 4.895504701190236, 4.895504701190236, 4.895504701190236, 4.895504701190236, 4.875491234988942, 4.838044194068597, 4.836574607293679, 4.3613331331273715, 4.3613331331273715, 4.3613331331273715, 4.3613331331273715, 4.3613331331273715, 4.3613331331273715, 4.3613331331273715, 3.9403804665218334, 10.122405137530082, 5.429672631662074, 2.872056917424711, 7.564817684576853, 5.961365321347369, 37.272313432582855, 15.76098126409778, 8.10811037223263, 16.367131524700522, 6.803914228355534, 9.17782683887841, 5.950910884735704, 6.040079433395824, 10.048534058212068, 25.661286286105586, 9.83912186019205, 6.79784168985796, 7.095100591921816, 6.076209106734998, 6.093168675361759, 4.982916573198998, 4.058101021402308, 4.058101021402308, 4.058101021402308, 4.058101021402308, 4.058101021402308, 4.058101021402308, 4.058101021402308, 3.666413541243854, 3.165603002927537, 4.058101736944577, 2.6676117011502085, 4.551417685537704, 2.17510574640534, 2.170161707099212, 5.060813657765965, 4.163428127824298, 1.6740624779661024, 2.941603747885262, 1.668966385927859, 1.6695939164975782, 1.66853205177071, 1.6548623322679574, 2.1723730904808733, 2.663924690724758, 3.585590179816198, 10.810035505936499, 1.1813220042426416, 1.1813220042426416, 1.1813037579147876, 1.1810448210562732, 2.5280120877949463, 2.172347867615899, 2.1694515313974487, 1.6719870476155092, 6.832253030891223, 2.6652783178117208, 3.12810035930743, 25.5525152976839, 4.615195399038508, 4.055881051513421, 4.788041431713613, 7.238187315392199, 3.5736703189317445, 5.515920006977431, 4.589405824587177, 4.058100663631174, 5.850348005932522, 4.2195416680842115, 5.631729449865898, 3.438666812454416, 3.4049164724917858, 10.82156334571742, 9.336983026947411, 7.368371080200797, 5.548292590863108, 4.195400561574039, 3.7282160884993893, 3.7282160884993893, 3.0741008795208824, 4.1954406984482455, 4.191738568546216, 2.1418339531350847, 3.7282160884993893, 1.9081374004643035, 1.9081374004643035, 1.9081374004643035, 1.9081374004643035, 1.9081374004643035, 1.9081374004643035, 1.9081374004643035, 1.9081374004643035, 1.9081374004643035, 1.9081374004643035, 1.9081374004643035, 1.9081374004643035, 1.9081370030695093, 1.9081370030695093, 1.9081370030695093, 1.9081370030695093, 1.9081342213059505, 1.9081342213059505, 13.228483470218693, 2.599282452451173, 7.470028642484826, 6.954192714345149, 9.436970736306545, 7.764305845847948, 3.3035474935659397, 4.816817530800099, 4.2972349645414525, 2.306826112034712, 3.895783564362316, 2.1416223404072157, 8.006003744000955, 2.14151186465445, 2.141300450623978, 4.105395409443219, 2.496819370919461, 2.0782372746527646, 2.114411129274591, 2.1412968740708305, 2.338040082231118, 2.3250418946076192, 2.205455071397244, 9.998109024458389, 2.514504898485828, 2.5144301304647363, 2.2408409856628446, 2.2408409856628446, 2.2408409856628446, 2.2408409856628446, 2.2399027172395014, 2.2399027172395014, 2.2399027172395014, 2.2399027172395014, 2.2399027172395014, 2.2399027172395014, 2.2399027172395014, 2.2399027172395014, 2.2399027172395014, 2.515217926294484, 2.4411980536895452, 4.3782501698893945, 2.2483780392462, 0.6523230045504196, 0.6523230045504196, 0.6523229265044685, 0.6523221460449582, 0.6519737879425134, 0.9267714742961826, 0.66414154193863, 0.37786532538243445, 0.37786532538243445, 0.37786532538243445, 1.719670572690073, 0.6523229265044685, 0.6519078000909132, 19.874150435292336, 1.431067260011866, 1.4921368118696596, 1.201217719732341, 2.5630824154209546, 1.3574833520894087, 0.9267714742961826, 0.9110329619483112, 1.2068258676358654, 1.0972817414523601, 0.9993336046276889, 1.1250683307423992, 1.1242962135283723, 1.7047250060227266, 0.7919015025762881, 0.7919015025762881, 0.7919015025762881, 0.7919014248124434, 0.7919014248124434, 0.7919011915209093, 0.7915958129027723, 0.7915958129027723, 0.7915958129027723, 0.7915958129027723, 0.7915958129027723, 0.7915958129027723, 0.7915958129027723, 0.7915958129027723, 0.7915958129027723, 0.7915958129027723, 0.7906112448650248, 0.7906112448650248, 1.1250683307423992, 1.4554323166539858, 1.1244775588142129, 0.4587256149222696, 0.4587256149222696, 0.4587256149222696, 0.4587256149222696, 0.4587256149222696, 0.4587256149222696, 0.7919015025762881, 1.1250683307423992, 0.7919015025762881, 0.7919011915209093, 0.7915958129027723, 0.7915958129027723, 1.4582330592847033, 2.790820586244485, 1.1146619730446368, 1.7783785649473227, 1.1250683307423992, 3.4542699815767812, 1.1250683307423992, 1.0686833222272778, 1.6512688949543883, 1.4392541708748954, 1.1250682529785545, 1.1248817752789637, 1.1137345614327439, 1.0349506106179058, 1.1250681752147098, 1.1006440291074693, 0.8554667579279451, 0.8509161732637869, 0.7919015025762881, 0.7919015025762881, 0.7919015025762881, 0.7919015025762881], \"Total\": [74.0, 82.0, 19.0, 11.0, 11.0, 9.0, 18.0, 23.0, 7.0, 14.0, 14.0, 6.0, 6.0, 15.0, 47.0, 11.0, 10.0, 13.0, 4.0, 5.0, 9.0, 5.0, 4.0, 4.0, 4.0, 3.0, 3.0, 3.0, 3.0, 5.0, 13.410639655778441, 9.026099976337177, 7.534831917891529, 74.0415205719442, 7.001605481880493, 5.933452002345262, 5.934139516111137, 5.932959523078888, 5.91717104254763, 5.513356669655078, 5.400160433187997, 5.400160433187997, 5.400160433187997, 5.400160433187997, 5.398543189765527, 5.372054939887921, 5.371340759873071, 4.865988865125132, 4.865988865125132, 4.865988865125132, 4.865988865125132, 4.865988865125132, 4.865988865125132, 4.865988865125132, 4.4450361985195945, 11.621743894465453, 6.267424164274293, 3.376712649422472, 9.011402462870377, 7.238318448252257, 47.54755604770676, 21.909040621531513, 10.592153560918016, 25.55942159545827, 8.683888163574528, 13.733398818226245, 7.793642808683507, 8.068404169349499, 18.182465314094976, 82.54822574465958, 18.43545763179589, 11.512648334103888, 13.106151874969916, 9.742700643845676, 23.973826232820073, 10.941994160613632, 4.576763526414967, 4.576763526414967, 4.576763526414967, 4.576763526414967, 4.576763526414967, 4.576763526414967, 4.576763526414967, 4.185076046256513, 3.687576527653632, 4.81263906957006, 3.1893761083650767, 5.607072838791972, 2.693886743368878, 2.6919454404305037, 6.310317705373692, 5.348362593278891, 2.1972114439499824, 3.8622922520418626, 2.192447642509397, 2.194096508736896, 2.194041564438691, 2.198350405013017, 2.9672417503598267, 3.736084753466835, 5.092878994579996, 15.37499211766619, 1.699984509255301, 1.699984509255301, 1.6999836796907524, 1.699834517240226, 3.734536927467885, 3.2263681365229435, 3.2409183923368876, 2.4677491154114057, 11.642210509984858, 4.131613674857935, 5.031290072214658, 82.54822574465958, 9.33343363862882, 7.865423078816803, 11.17835394998058, 23.973826232820073, 7.396003462316909, 18.182465314094976, 13.106151874969916, 10.556685728014681, 25.55942159545827, 12.95245799309804, 47.54755604770676, 14.692323044653147, 21.909040621531513, 11.4451653820798, 9.954936975841122, 7.986325029094507, 6.166246539756818, 4.813770577186007, 4.3461700373931, 4.3461700373931, 3.697371793694559, 5.088149767075986, 5.3516569243682826, 2.759797801371405, 4.843031218419327, 2.526091349358014, 2.526091349358014, 2.526091349358014, 2.526091349358014, 2.526091349358014, 2.526091349358014, 2.526091349358014, 2.526091349358014, 2.526091349358014, 2.526091349358014, 2.526091349358014, 2.526091349358014, 2.52609095196322, 2.52609095196322, 2.52609095196322, 2.52609095196322, 2.5260881701996616, 2.5260881701996616, 19.09126118060826, 3.5057279493833544, 14.692323044653147, 14.835550454499776, 23.973826232820073, 18.43545763179589, 5.625303524408309, 10.941994160613632, 11.512648334103888, 3.7769523263495572, 12.95245799309804, 3.2939914194646316, 82.54822574465958, 3.568388266308466, 3.825616297908722, 74.0415205719442, 8.386598409208503, 3.9094867776354953, 4.450877967432161, 4.991751308865349, 15.37499211766619, 25.55942159545827, 21.909040621531513, 11.18051062626447, 3.118579148766894, 3.118566700007861, 2.843430574152333, 2.843430574152333, 2.843430574152333, 2.843430574152333, 2.8442691640151803, 2.8442691640151803, 2.8442691640151803, 2.8442691640151803, 2.8442691640151803, 2.8442691640151803, 2.8442691640151803, 2.8442691640151803, 2.8442691640151803, 3.3538245473703356, 3.721939994825474, 6.800850889298967, 3.6472194251201833, 1.2549125930399079, 1.2549125930399079, 1.2549125149939568, 1.2549117345344465, 1.2552230920392726, 2.0632818119518546, 1.4903327080649342, 0.9804549138719225, 0.9804549138719225, 0.9804549138719225, 5.052082678499918, 1.788832144901363, 1.7887633993111525, 82.54822574465958, 5.682085610298764, 8.124827744599859, 5.458584879207438, 47.54755604770676, 9.33343363862882, 3.3945394693092616, 3.3659129244383057, 13.106151874969916, 13.733398818226245, 11.17835394998058, 1.7055163030462586, 1.705876829412396, 2.911346721333155, 1.3723494748801475, 1.3723494748801475, 1.3723494748801475, 1.3723493971163028, 1.3723493971163028, 1.3723491638247687, 1.3722531129144346, 1.3722531129144346, 1.3722531129144346, 1.3722531129144346, 1.3722531129144346, 1.3722531129144346, 1.3722531129144346, 1.3722531129144346, 1.3722531129144346, 1.3722531129144346, 1.3729526582661262, 1.3729526582661262, 1.9806986724198121, 2.5741800581981984, 2.255743605597358, 1.039173587226129, 1.039173587226129, 1.039173587226129, 1.039173587226129, 1.039173587226129, 1.039173587226129, 1.8807218393188947, 2.7735864017378136, 1.9062689648802067, 1.906270192805647, 1.9061726029144939, 1.9061726728681674, 4.063992905182806, 9.742700643845676, 2.982698099250331, 7.310788515554402, 3.4301039375683624, 82.54822574465958, 3.760990079865607, 3.261006764012292, 14.835550454499776, 11.17835394998058, 5.213180968167142, 5.3295437239034245, 5.872215151399894, 5.3738574898459, 12.95245799309804, 23.973826232820073, 6.310317705373692, 10.941994160613632, 3.894531812755832, 2.782459124707935, 2.714674566074032, 4.450877967432161], \"Category\": [\"Default\", \"Default\", \"Default\", \"Default\", \"Default\", \"Default\", \"Default\", \"Default\", \"Default\", \"Default\", \"Default\", \"Default\", \"Default\", \"Default\", \"Default\", \"Default\", \"Default\", \"Default\", \"Default\", \"Default\", \"Default\", \"Default\", \"Default\", \"Default\", \"Default\", \"Default\", \"Default\", \"Default\", \"Default\", \"Default\", \"Topic1\", \"Topic1\", \"Topic1\", \"Topic1\", \"Topic1\", \"Topic1\", \"Topic1\", \"Topic1\", \"Topic1\", \"Topic1\", \"Topic1\", \"Topic1\", \"Topic1\", \"Topic1\", \"Topic1\", \"Topic1\", \"Topic1\", \"Topic1\", \"Topic1\", \"Topic1\", \"Topic1\", \"Topic1\", \"Topic1\", \"Topic1\", \"Topic1\", \"Topic1\", \"Topic1\", \"Topic1\", \"Topic1\", \"Topic1\", \"Topic1\", \"Topic1\", \"Topic1\", \"Topic1\", \"Topic1\", \"Topic1\", \"Topic1\", \"Topic1\", \"Topic1\", \"Topic1\", \"Topic1\", \"Topic1\", \"Topic1\", \"Topic1\", \"Topic1\", \"Topic1\", \"Topic2\", \"Topic2\", \"Topic2\", \"Topic2\", \"Topic2\", \"Topic2\", \"Topic2\", \"Topic2\", \"Topic2\", \"Topic2\", \"Topic2\", \"Topic2\", \"Topic2\", \"Topic2\", \"Topic2\", \"Topic2\", \"Topic2\", \"Topic2\", \"Topic2\", \"Topic2\", \"Topic2\", \"Topic2\", \"Topic2\", \"Topic2\", \"Topic2\", \"Topic2\", \"Topic2\", \"Topic2\", \"Topic2\", \"Topic2\", \"Topic2\", \"Topic2\", \"Topic2\", \"Topic2\", \"Topic2\", \"Topic2\", \"Topic2\", \"Topic2\", \"Topic2\", \"Topic2\", \"Topic2\", \"Topic2\", \"Topic2\", \"Topic2\", \"Topic2\", \"Topic2\", \"Topic2\", \"Topic2\", \"Topic2\", \"Topic2\", \"Topic2\", \"Topic3\", \"Topic3\", \"Topic3\", \"Topic3\", \"Topic3\", \"Topic3\", \"Topic3\", \"Topic3\", \"Topic3\", \"Topic3\", \"Topic3\", \"Topic3\", \"Topic3\", \"Topic3\", \"Topic3\", \"Topic3\", \"Topic3\", \"Topic3\", \"Topic3\", \"Topic3\", \"Topic3\", \"Topic3\", \"Topic3\", \"Topic3\", \"Topic3\", \"Topic3\", \"Topic3\", \"Topic3\", \"Topic3\", \"Topic3\", \"Topic3\", \"Topic3\", \"Topic3\", \"Topic3\", \"Topic3\", \"Topic3\", \"Topic3\", \"Topic3\", \"Topic3\", \"Topic3\", \"Topic3\", \"Topic3\", \"Topic3\", \"Topic3\", \"Topic3\", \"Topic3\", \"Topic3\", \"Topic3\", \"Topic3\", \"Topic3\", \"Topic3\", \"Topic3\", \"Topic3\", \"Topic4\", \"Topic4\", \"Topic4\", \"Topic4\", \"Topic4\", \"Topic4\", \"Topic4\", \"Topic4\", \"Topic4\", \"Topic4\", \"Topic4\", \"Topic4\", \"Topic4\", \"Topic4\", \"Topic4\", \"Topic4\", \"Topic4\", \"Topic4\", \"Topic4\", \"Topic4\", \"Topic4\", \"Topic4\", \"Topic4\", \"Topic4\", \"Topic4\", \"Topic4\", \"Topic4\", \"Topic4\", \"Topic4\", \"Topic4\", \"Topic4\", \"Topic4\", \"Topic4\", \"Topic4\", \"Topic4\", \"Topic4\", \"Topic4\", \"Topic4\", \"Topic4\", \"Topic4\", \"Topic4\", \"Topic4\", \"Topic4\", \"Topic4\", \"Topic5\", \"Topic5\", \"Topic5\", \"Topic5\", \"Topic5\", \"Topic5\", \"Topic5\", \"Topic5\", \"Topic5\", \"Topic5\", \"Topic5\", \"Topic5\", \"Topic5\", \"Topic5\", \"Topic5\", \"Topic5\", \"Topic5\", \"Topic5\", \"Topic5\", \"Topic5\", \"Topic5\", \"Topic5\", \"Topic5\", \"Topic5\", \"Topic5\", \"Topic5\", \"Topic5\", \"Topic5\", \"Topic5\", \"Topic5\", \"Topic5\", \"Topic5\", \"Topic5\", \"Topic5\", \"Topic5\", \"Topic5\", \"Topic5\", \"Topic5\", \"Topic5\", \"Topic5\", \"Topic5\", \"Topic5\", \"Topic5\", \"Topic5\", \"Topic5\", \"Topic5\", \"Topic5\", \"Topic5\", \"Topic5\", \"Topic5\", \"Topic5\", \"Topic5\", \"Topic5\", \"Topic5\", \"Topic5\", \"Topic5\", \"Topic5\", \"Topic5\"], \"logprob\": [30.0, 29.0, 28.0, 27.0, 26.0, 25.0, 24.0, 23.0, 22.0, 21.0, 20.0, 19.0, 18.0, 17.0, 16.0, 15.0, 14.0, 13.0, 12.0, 11.0, 10.0, 9.0, 8.0, 7.0, 6.0, 5.0, 4.0, 3.0, 2.0, 1.0, -4.5343, -4.949, -5.1423, -2.8592, -5.222, -5.4002, -5.4001, -5.4028, -5.4062, -5.4804, -5.5033, -5.5033, -5.5033, -5.5033, -5.5074, -5.5151, -5.5154, -5.6188, -5.6188, -5.6188, -5.6188, -5.6188, -5.6188, -5.6188, -5.7203, -4.7768, -5.3997, -6.0365, -5.0681, -5.3063, -3.4733, -4.334, -4.9987, -4.2963, -5.1741, -4.8748, -5.308, -5.2932, -4.7841, -3.8466, -4.8052, -5.175, -5.1322, -5.2872, -5.2844, -5.4856, -5.2435, -5.2435, -5.2435, -5.2435, -5.2435, -5.2435, -5.2435, -5.345, -5.4918, -5.2435, -5.663, -5.1288, -5.8671, -5.8694, -5.0227, -5.2179, -6.1289, -5.5652, -6.132, -6.1316, -6.1322, -6.1405, -5.8684, -5.6644, -5.3673, -4.2637, -6.4776, -6.4776, -6.4776, -6.4778, -5.7168, -5.8684, -5.8697, -6.1302, -4.7225, -5.6639, -5.5038, -3.4035, -5.1148, -5.244, -5.0781, -4.6648, -5.3706, -4.9366, -5.1204, -5.2435, -4.8777, -5.2045, -4.9158, -5.4091, -5.419, -3.6745, -3.8221, -4.0589, -4.3426, -4.6221, -4.7401, -4.7401, -4.9331, -4.6221, -4.623, -5.2944, -4.7401, -5.41, -5.41, -5.41, -5.41, -5.41, -5.41, -5.41, -5.41, -5.41, -5.41, -5.41, -5.41, -5.41, -5.41, -5.41, -5.41, -5.41, -5.41, -3.4737, -5.1008, -4.0452, -4.1167, -3.8114, -4.0065, -4.8611, -4.484, -4.5981, -5.2202, -4.6962, -5.2945, -3.9759, -5.2946, -5.2947, -4.6438, -5.1411, -5.3246, -5.3073, -5.2947, -5.2068, -5.2123, -5.2651, -3.5123, -4.8927, -4.8927, -5.0079, -5.0079, -5.0079, -5.0079, -5.0083, -5.0083, -5.0083, -5.0083, -5.0083, -5.0083, -5.0083, -5.0083, -5.0083, -4.8924, -4.9223, -4.3381, -5.0045, -6.242, -6.242, -6.242, -6.242, -6.2425, -5.8908, -6.224, -6.788, -6.788, -6.788, -5.2726, -6.242, -6.2426, -2.8253, -5.4563, -5.4145, -5.6314, -4.8735, -5.5091, -5.8908, -5.9079, -5.6267, -5.7219, -5.8154, -5.6933, -5.694, -5.2777, -6.0444, -6.0444, -6.0444, -6.0444, -6.0444, -6.0444, -6.0448, -6.0448, -6.0448, -6.0448, -6.0448, -6.0448, -6.0448, -6.0448, -6.0448, -6.0448, -6.0461, -6.0461, -5.6933, -5.4358, -5.6938, -6.5904, -6.5904, -6.5904, -6.5904, -6.5904, -6.5904, -6.0444, -5.6933, -6.0444, -6.0444, -6.0448, -6.0448, -5.4339, -4.7848, -5.7026, -5.2354, -5.6933, -4.5715, -5.6933, -5.7447, -5.3096, -5.447, -5.6933, -5.6934, -5.7034, -5.7768, -5.6933, -5.7152, -5.9672, -5.9726, -6.0444, -6.0444, -6.0444, -6.0444], \"loglift\": [30.0, 29.0, 28.0, 27.0, 26.0, 25.0, 24.0, 23.0, 22.0, 21.0, 20.0, 19.0, 18.0, 17.0, 16.0, 15.0, 14.0, 13.0, 12.0, 11.0, 10.0, 9.0, 8.0, 7.0, 6.0, 5.0, 4.0, 3.0, 2.0, 1.0, 0.8978, 0.879, 0.8663, 0.8643, 0.86, 0.8473, 0.8473, 0.8448, 0.8441, 0.8406, 0.8384, 0.8384, 0.8384, 0.8384, 0.8346, 0.8319, 0.8317, 0.8271, 0.8271, 0.8271, 0.8271, 0.8271, 0.8271, 0.8271, 0.816, 0.7984, 0.7931, 0.7747, 0.7616, 0.7425, 0.6931, 0.6072, 0.6693, 0.4908, 0.6926, 0.5335, 0.6668, 0.647, 0.3435, -0.2318, 0.3086, 0.4097, 0.3229, 0.4644, -0.4332, 0.15, 1.2637, 1.2637, 1.2637, 1.2637, 1.2637, 1.2637, 1.2637, 1.2516, 1.2313, 1.2134, 1.2053, 1.1753, 1.17, 1.1685, 1.1633, 1.1335, 1.112, 1.1116, 1.1111, 1.1107, 1.1101, 1.0999, 1.0721, 1.0457, 1.033, 1.0317, 1.02, 1.02, 1.0199, 1.0198, 0.9937, 0.9884, 0.9826, 0.9946, 0.851, 0.9456, 0.9087, 0.2113, 0.6797, 0.7216, 0.5361, 0.1863, 0.6566, 0.1911, 0.3346, 0.4279, -0.0906, 0.2624, -0.7494, -0.0683, -0.4777, 1.916, 1.908, 1.8915, 1.8664, 1.8346, 1.8187, 1.8187, 1.7874, 1.7791, 1.7278, 1.7186, 1.7104, 1.6915, 1.6915, 1.6915, 1.6915, 1.6915, 1.6915, 1.6915, 1.6915, 1.6915, 1.6915, 1.6915, 1.6915, 1.6915, 1.6915, 1.6915, 1.6915, 1.6915, 1.6915, 1.6052, 1.6729, 1.2956, 1.2144, 1.0397, 1.1073, 1.4398, 1.1516, 0.9866, 1.479, 0.7707, 1.5415, -0.3611, 1.4614, 1.3917, -0.9203, 0.7604, 1.3402, 1.2277, 1.1257, 0.0886, -0.4252, -0.3239, 2.1016, 1.9981, 1.9981, 1.9752, 1.9752, 1.9752, 1.9752, 1.9745, 1.9745, 1.9745, 1.9745, 1.9745, 1.9745, 1.9745, 1.9745, 1.9745, 1.9256, 1.7916, 1.773, 1.7296, 1.5591, 1.5591, 1.5591, 1.5591, 1.5583, 1.413, 1.4051, 1.2599, 1.2599, 1.2599, 1.1357, 1.2046, 1.204, 0.7894, 0.8345, 0.5187, 0.6995, -0.7071, 0.2854, 0.9152, 0.9065, -0.1717, -0.3136, -0.2013, 1.801, 1.8001, 1.6818, 1.6672, 1.6672, 1.6672, 1.6672, 1.6672, 1.6672, 1.6669, 1.6669, 1.6669, 1.6669, 1.6669, 1.6669, 1.6669, 1.6669, 1.6669, 1.6669, 1.6651, 1.6651, 1.6514, 1.6468, 1.5208, 1.3993, 1.3993, 1.3993, 1.3993, 1.3993, 1.3993, 1.352, 1.3147, 1.3385, 1.3385, 1.3382, 1.3382, 1.1921, 0.9668, 1.2327, 0.8034, 1.1023, -0.9568, 1.0102, 1.1014, 0.0215, 0.1672, 0.6837, 0.6614, 0.5545, 0.5698, -0.2264, -0.8641, 0.2187, -0.337, 0.6241, 0.9604, 0.985, 0.4906]}, \"token.table\": {\"Topic\": [1, 3, 1, 2, 5, 3, 4, 1, 1, 2, 3, 3, 5, 4, 1, 4, 2, 4, 2, 1, 4, 3, 1, 5, 1, 5, 1, 3, 1, 4, 2, 5, 2, 1, 3, 5, 1, 2, 2, 5, 1, 4, 1, 2, 3, 5, 1, 5, 1, 2, 4, 3, 2, 5, 1, 2, 3, 1, 1, 2, 3, 4, 5, 1, 2, 3, 5, 1, 2, 5, 5, 1, 3, 4, 2, 3, 1, 2, 5, 4, 1, 2, 4, 1, 5, 5, 1, 3, 4, 2, 5, 1, 2, 4, 3, 3, 2, 5, 1, 4, 4, 1, 2, 4, 4, 1, 3, 4, 4, 3, 5, 3, 5, 2, 4, 3, 1, 3, 5, 2, 3, 1, 5, 5, 3, 1, 2, 5, 1, 5, 2, 1, 2, 3, 1, 2, 3, 4, 5, 1, 4, 3, 1, 2, 3, 5, 5, 3, 5, 2, 1, 1, 3, 4, 1, 1, 5, 1, 5, 2, 4, 5, 1, 2, 1, 2, 5, 2, 2, 5, 5, 1, 2, 5, 5, 3, 1, 4, 5, 1, 1, 2, 5, 1, 2, 3, 1, 2, 4, 1, 2, 3, 2, 4, 1, 2, 3, 1, 3, 1, 2, 4, 5, 1, 4, 1, 3, 4, 3, 4, 1, 4, 2, 3, 1, 1, 2, 4, 5, 4, 1, 2, 4, 2, 5, 1, 3, 1, 2, 3, 5, 5, 3, 3, 4, 3, 1, 4, 1, 2, 3, 2, 4, 2, 4, 1, 3, 4, 1, 5, 1, 2, 4, 3, 5, 2, 1, 2, 1, 2, 3, 4, 1, 2, 2, 1, 2, 5, 2, 1, 2, 1, 2, 1, 5, 1, 2, 3, 1, 2, 1, 1, 2, 3, 5, 1, 2, 5, 3, 2, 5, 1, 2, 3, 5, 4, 1, 2, 3, 5, 2, 5, 2, 4, 1, 2, 5, 2, 2, 1, 2, 1, 2, 3, 1, 2, 3, 1, 5, 3, 2, 1, 2, 3, 5, 1, 2, 4, 3, 1, 1, 1, 3, 1, 2, 1, 4, 3, 1, 5, 1, 3, 4, 4], \"Freq\": [0.18685801689689618, 0.7474320675875847, 0.37526664637909657, 0.37526664637909657, 0.18763332318954828, 0.2940808484930862, 0.5881616969861724, 0.8569463126032228, 0.2041882683141632, 0.2041882683141632, 0.47643929273304747, 0.791737005278247, 0.5862087946551561, 0.7966711306875102, 0.8884380495074397, 0.7033757103762691, 0.588240654285763, 0.8945011754870236, 0.742957108254079, 0.9290187327707251, 0.703168330657093, 0.791737005278247, 0.3683682797552423, 0.3683682797552423, 0.3605440232088828, 0.3605440232088828, 0.8426797752848924, 0.791737005278247, 0.7039668661010688, 0.1759917165252672, 0.7478924493688343, 0.18697311234220856, 0.7424217090503485, 0.45695509672247875, 0.45695509672247875, 0.09139101934449576, 0.769858222565054, 0.12830970376084233, 0.8739800465796072, 0.7287285345457649, 0.5590239435546035, 0.5590239435546035, 0.33702827645896, 0.067405655291792, 0.471839587042544, 0.134811310583584, 0.9307425288737492, 0.7287285345457649, 0.5495929927603483, 0.18319766425344944, 0.18319766425344944, 0.9203505536104754, 0.7923531323537225, 0.1584706264707445, 0.5499804249453477, 0.3299882549672086, 0.10999608498906954, 0.7977759074455354, 0.3149673995468287, 0.3149673995468287, 0.09691304601440882, 0.24228261503602205, 0.036342392255403304, 0.8425821446268736, 0.22467477367772645, 0.4493495473554529, 0.22467477367772645, 0.822032296183057, 0.9097730714081305, 0.7286773655721578, 0.7287285345457649, 0.9319095484128329, 0.054023741936975817, 0.013505935484243954, 0.20648225355160543, 0.8259290142064217, 0.8060905285908941, 0.11515578979869916, 0.11515578979869916, 0.7033757103762691, 0.3814162277016751, 0.5085549702689002, 0.703168330657093, 0.8449983892720561, 0.7287285345457649, 0.7286773655721578, 0.26139579145630765, 0.5227915829126153, 0.703168330657093, 0.9122224682687846, 0.5048723533389881, 0.4923181297792544, 0.2461590648896272, 0.1230795324448136, 0.8557423859794054, 0.786140381692948, 0.7261085464635448, 0.24203618215451494, 0.08944135321072638, 0.8944135321072638, 0.703168330657093, 0.5341003268372447, 0.3815002334551748, 0.07630004669103496, 0.703168330657093, 0.2802385630066288, 0.5604771260132576, 0.9619803866925271, 0.7033757103762691, 0.791737005278247, 0.7287285345457649, 0.8113871602299109, 0.7286773655721578, 0.617109028332517, 0.3085545141662585, 0.7917380017032106, 0.8427497239025942, 0.9611045041973081, 0.7287285345457649, 0.2647637337182132, 0.5295274674364264, 0.5246114448253665, 0.5246114448253665, 0.7287285345457649, 0.7917380017032106, 0.265887433565295, 0.265887433565295, 0.265887433565295, 0.9261757893275581, 0.7287285345457649, 0.9115369319608305, 0.54083262945728, 0.54083262945728, 0.791737005278247, 0.7302921326585019, 0.1369297748734691, 0.09128651658231274, 0.703168330657093, 0.5317107395116712, 0.2686770881288459, 0.5373541762576918, 0.7917371298312302, 0.19182146296210037, 0.38364292592420074, 0.19182146296210037, 0.19182146296210037, 0.7287285345457649, 0.791737005278247, 0.7287285345457649, 0.8135424383745251, 0.822032296183057, 0.9258984176231665, 0.7246907722754744, 0.79686824847107, 0.9308662815349205, 0.887764144700267, 0.11097051808753337, 0.5245846070373691, 0.5245846070373691, 0.911559759129571, 0.44331279384705763, 0.44331279384705763, 0.8604560632903152, 0.08604560632903152, 0.17834617611556605, 0.8917308805778302, 0.586332712395583, 0.8104551583099541, 0.7854103748109719, 0.19635259370274297, 0.7286775307334884, 0.6158456694233044, 0.10264094490388408, 0.3079228347116522, 0.7286774068624834, 0.791737005278247, 0.5471366038683265, 0.13678415096708163, 0.27356830193416326, 0.9971083882955428, 0.37217213217489914, 0.37217213217489914, 0.18608606608744957, 0.5424329680188064, 0.054243296801880635, 0.4339463744150451, 0.6553366809719144, 0.2184455603239715, 0.07281518677465716, 0.822032296183057, 0.8739800465796072, 0.7917371298312302, 0.7767408068133638, 0.25891360227112126, 0.13008136750209828, 0.7154475212615405, 0.13008136750209828, 0.3035830615984206, 0.6071661231968412, 0.8998801857524102, 0.3352669183151118, 0.3352669183151118, 0.3352669183151118, 0.5941924360190496, 0.2970962180095248, 0.9258984176231665, 0.2741814745536041, 0.5483629491072082, 0.9730392648615418, 0.6709911113058855, 0.5590454279113141, 0.5590454279113141, 0.940622835962061, 0.7917371298312302, 0.9693795623237477, 0.3578344376907969, 0.44729304711349616, 0.08945860942269923, 0.08945860942269923, 0.703168330657093, 0.2945907711609213, 0.2945907711609213, 0.2945907711609213, 0.9102446673973942, 0.7283572335719715, 0.9258984176231665, 0.791737005278247, 0.10475997269533341, 0.15713995904300013, 0.6809398225196671, 0.7286774068624834, 0.7283572335719715, 0.8764982610272829, 0.9040740309899916, 0.703168330657093, 0.7917371298312302, 0.5938145099578558, 0.3958763399719038, 0.3789067992604011, 0.3789067992604011, 0.18945339963020055, 0.8029796425833761, 0.26765988086112535, 0.8739800465796072, 0.796868793621557, 0.608026910651298, 0.34744394894359887, 0.7968682980301743, 0.5246114640778191, 0.5246114640778191, 0.3099460314772696, 0.6198920629545392, 0.703168330657093, 0.35939431818426676, 0.35939431818426676, 0.5882925601625942, 0.19875618094899924, 0.5962685428469977, 0.7781682819381107, 0.12618945112509905, 0.04206315037503301, 0.06309472556254953, 0.822032296183057, 0.588240941337691, 0.588240654285763, 0.2460634216966031, 0.4921268433932062, 0.2460634216966031, 0.8739800465796072, 0.3435773641585873, 0.6012603872775277, 0.26777081587944734, 0.803312447638342, 0.6811739517150404, 0.1702934879287601, 0.822032296183057, 0.8311448131009215, 0.8309494471874656, 0.7436414778021389, 0.24788049260071296, 0.9068885435109726, 0.2502729410704589, 0.2919850979155354, 0.37540941160568836, 0.04171215684507648, 0.3066537644250745, 0.3066537644250745, 0.3066537644250745, 0.9203505536104754, 0.3434836505979896, 0.6869673011959792, 0.20033049287211088, 0.20033049287211088, 0.40066098574422176, 0.20033049287211088, 0.79686824847107, 0.6259922565244234, 0.23474709619665876, 0.07824903206555292, 0.03912451603277646, 0.5830727104490663, 0.29153635522453314, 0.8739800465796072, 0.9619765466546581, 0.25677027382975315, 0.5135405476595063, 0.25677027382975315, 0.6740266443600247, 0.8739800465796072, 0.7552760592064759, 0.18881901480161897, 0.8289218059270026, 0.1381536343211671, 0.791737005278247, 0.4769514175864188, 0.1192378543966047, 0.2384757087932094, 0.38847321375799626, 0.38847321375799626, 0.791737005278247, 0.9557771366133094, 0.308821692541406, 0.308821692541406, 0.308821692541406, 0.0772054231353515, 0.3214251170741416, 0.5357085284569026, 0.10714170569138054, 0.791737005278247, 0.822032296183057, 0.9258984176231665, 0.25578805016570794, 0.5115761003314159, 0.822032296183057, 0.8739800465796072, 0.4846647676567288, 0.4846647676567288, 0.791737005278247, 0.5245849449491728, 0.5245849449491728, 0.17776818542519157, 0.5333045562755747, 0.17776818542519157, 0.7033757103762691], \"Term\": [\"access\", \"access\", \"activity\", \"activity\", \"activity\", \"advertising\", \"advertising\", \"aesthetics\", \"agriculture\", \"agriculture\", \"agriculture\", \"ai\", \"aimed\", \"aims\", \"analyzing\", \"angles\", \"another\", \"answer\", \"anyone\", \"applications\", \"applying\", \"appreciate\", \"art\", \"art\", \"assumes\", \"assumes\", \"attention\", \"becoming\", \"behalf\", \"behalf\", \"believe\", \"believe\", \"best\", \"beyond\", \"beyond\", \"beyond\", \"biases\", \"biases\", \"broad\", \"campaigns\", \"cds\", \"cds\", \"changing\", \"changing\", \"changing\", \"changing\", \"claims\", \"cold\", \"collaborations\", \"collaborations\", \"collaborations\", \"combining\", \"commercial\", \"commercial\", \"complexities\", \"complexities\", \"complexities\", \"comprehensive\", \"computational\", \"computational\", \"computational\", \"computational\", \"computational\", \"connects\", \"consider\", \"consider\", \"consider\", \"consideration\", \"considerations\", \"converters\", \"corporate\", \"courses\", \"courses\", \"courses\", \"creatively\", \"creatively\", \"cross\", \"cross\", \"cross\", \"deception\", \"decision_making\", \"decision_making\", \"defined\", \"democratic\", \"depending\", \"design\", \"designed\", \"designed\", \"development\", \"different\", \"digester\", \"digital\", \"digital\", \"digital\", \"disciplines\", \"discovery\", \"disparate\", \"disparate\", \"disruptions\", \"disruptions\", \"distribute\", \"dog\", \"dog\", \"dog\", \"domain\", \"driven\", \"driven\", \"economic\", \"education\", \"elegant\", \"embraced\", \"encourage\", \"engages\", \"ensemble\", \"ensemble\", \"ensure\", \"entangle\", \"entities\", \"equal\", \"equipped\", \"equipped\", \"erosion\", \"erosion\", \"especially\", \"everyone\", \"evidence\", \"evidence\", \"evidence\", \"examine\", \"example\", \"excellent\", \"experience\", \"experience\", \"experiences\", \"expert\", \"expert\", \"expert\", \"exploratory\", \"explore\", \"external\", \"external\", \"faced\", \"fail\", \"fail\", \"fail\", \"fail\", \"feared\", \"fixture\", \"force\", \"founders\", \"fundamentals\", \"funds\", \"gather\", \"generation\", \"genetics\", \"grades\", \"grades\", \"greeted\", \"greeted\", \"growing\", \"hacking\", \"hacking\", \"health\", \"health\", \"helping\", \"helping\", \"hopes\", \"however\", \"human\", \"human\", \"identities\", \"identity\", \"identity\", \"identity\", \"illness\", \"impacts\", \"implications\", \"implications\", \"implications\", \"importance\", \"including\", \"including\", \"including\", \"industrial\", \"industrial\", \"industrial\", \"industry\", \"industry\", \"industry\", \"info\", \"informatics\", \"ing\", \"intellectual\", \"intellectual\", \"intelligence\", \"intelligence\", \"intelligence\", \"intend\", \"intend\", \"interactions\", \"intervals\", \"intervals\", \"intervals\", \"investigative\", \"investigative\", \"involving\", \"iteration\", \"iteration\", \"iterative\", \"journalists\", \"justice\", \"justice\", \"knowing\", \"landscape\", \"legal\", \"leverage\", \"leverage\", \"leverage\", \"leverage\", \"leveraging\", \"lifecycle\", \"lifecycle\", \"lifecycle\", \"limits\", \"lives\", \"logic\", \"loop\", \"machine\", \"machine\", \"machine\", \"map\", \"mechanics\", \"media\", \"nan\", \"network\", \"networked\", \"neutral\", \"neutral\", \"non\", \"non\", \"non\", \"official\", \"official\", \"offs\", \"opportunity\", \"organizing\", \"organizing\", \"perhaps\", \"personal\", \"personal\", \"placements\", \"placements\", \"playing\", \"policy\", \"policy\", \"politics\", \"prior\", \"prior\", \"programs\", \"programs\", \"programs\", \"programs\", \"pursuit\", \"question\", \"rapidly\", \"reasoning\", \"reasoning\", \"reasoning\", \"recognizing\", \"regimes\", \"regimes\", \"regulatory\", \"regulatory\", \"relate\", \"relate\", \"related\", \"resilience\", \"role\", \"sciences\", \"sciences\", \"second\", \"sectoral\", \"sectoral\", \"sectoral\", \"sectoral\", \"services\", \"services\", \"services\", \"several\", \"shape\", \"shape\", \"society\", \"society\", \"society\", \"society\", \"socio\", \"solutions\", \"solutions\", \"solutions\", \"solutions\", \"spring\", \"spring\", \"stakeholders\", \"structure\", \"study\", \"study\", \"study\", \"summer\", \"survey\", \"survive\", \"survive\", \"tackling\", \"tackling\", \"team\", \"teams\", \"teams\", \"teams\", \"techniques\", \"techniques\", \"theories\", \"thompson\", \"tools\", \"tools\", \"tools\", \"tools\", \"transparent\", \"transparent\", \"transparent\", \"tries\", \"ucd\", \"undergraduate\", \"unit\", \"unit\", \"ux\", \"value\", \"variations\", \"variations\", \"vision\", \"whether\", \"whether\", \"work\", \"work\", \"work\", \"workplace\"]}, \"R\": 30, \"lambda.step\": 0.01, \"plot.opts\": {\"xlab\": \"PC1\", \"ylab\": \"PC2\"}, \"topic.order\": [4, 3, 5, 2, 1]};\n",
       "\n",
       "function LDAvis_load_lib(url, callback){\n",
       "  var s = document.createElement('script');\n",
       "  s.src = url;\n",
       "  s.async = true;\n",
       "  s.onreadystatechange = s.onload = callback;\n",
       "  s.onerror = function(){console.warn(\"failed to load library \" + url);};\n",
       "  document.getElementsByTagName(\"head\")[0].appendChild(s);\n",
       "}\n",
       "\n",
       "if(typeof(LDAvis) !== \"undefined\"){\n",
       "   // already loaded: just create the visualization\n",
       "   !function(LDAvis){\n",
       "       new LDAvis(\"#\" + \"ldavis_el1501630352865688488469974521\", ldavis_el1501630352865688488469974521_data);\n",
       "   }(LDAvis);\n",
       "}else if(typeof define === \"function\" && define.amd){\n",
       "   // require.js is available: use it to load d3/LDAvis\n",
       "   require.config({paths: {d3: \"https://d3js.org/d3.v5\"}});\n",
       "   require([\"d3\"], function(d3){\n",
       "      window.d3 = d3;\n",
       "      LDAvis_load_lib(\"https://cdn.jsdelivr.net/gh/bmabey/pyLDAvis@3.3.1/pyLDAvis/js/ldavis.v3.0.0.js\", function(){\n",
       "        new LDAvis(\"#\" + \"ldavis_el1501630352865688488469974521\", ldavis_el1501630352865688488469974521_data);\n",
       "      });\n",
       "    });\n",
       "}else{\n",
       "    // require.js not available: dynamically load d3 & LDAvis\n",
       "    LDAvis_load_lib(\"https://d3js.org/d3.v5.js\", function(){\n",
       "         LDAvis_load_lib(\"https://cdn.jsdelivr.net/gh/bmabey/pyLDAvis@3.3.1/pyLDAvis/js/ldavis.v3.0.0.js\", function(){\n",
       "                 new LDAvis(\"#\" + \"ldavis_el1501630352865688488469974521\", ldavis_el1501630352865688488469974521_data);\n",
       "            })\n",
       "         });\n",
       "}\n",
       "</script>"
      ],
      "text/plain": [
       "PreparedData(topic_coordinates=              x         y  topics  cluster       Freq\n",
       "topic                                                \n",
       "3      0.040076 -0.127371       1        1  39.197487\n",
       "2      0.046247  0.019168       2        1  25.058958\n",
       "4     -0.170443  0.002755       3        1  13.917137\n",
       "1      0.048563  0.072147       4        1  10.932968\n",
       "0      0.035556  0.033301       5        1  10.893450, topic_info=              Term       Freq      Total Category  logprob  loglift\n",
       "11         courses  74.000000  74.000000  Default  30.0000  30.0000\n",
       "9    computational  82.000000  82.000000  Default  29.0000  29.0000\n",
       "90         machine  19.000000  19.000000  Default  28.0000  28.0000\n",
       "400    disruptions  11.000000  11.000000  Default  27.0000  27.0000\n",
       "272       entities  11.000000  11.000000  Default  26.0000  26.0000\n",
       "..             ...        ...        ...      ...      ...      ...\n",
       "255         beyond   0.850916  10.941994   Topic5  -5.9726  -0.3370\n",
       "113          study   0.791902   3.894532   Topic5  -6.0444   0.6241\n",
       "139         policy   0.791902   2.782459   Topic5  -6.0444   0.9604\n",
       "152            art   0.791902   2.714675   Topic5  -6.0444   0.9850\n",
       "159       consider   0.791902   4.450878   Topic5  -6.0444   0.4906\n",
       "\n",
       "[282 rows x 6 columns], token_table=      Topic      Freq       Term\n",
       "term                            \n",
       "46        1  0.186858     access\n",
       "46        3  0.747432     access\n",
       "345       1  0.375267   activity\n",
       "345       2  0.375267   activity\n",
       "345       5  0.187633   activity\n",
       "...     ...       ...        ...\n",
       "671       5  0.524585    whether\n",
       "250       1  0.177768       work\n",
       "250       3  0.533305       work\n",
       "250       4  0.177768       work\n",
       "1382      4  0.703376  workplace\n",
       "\n",
       "[344 rows x 3 columns], R=30, lambda_step=0.01, plot_opts={'xlab': 'PC1', 'ylab': 'PC2'}, topic_order=[4, 3, 5, 2, 1])"
      ]
     },
     "execution_count": 28,
     "metadata": {},
     "output_type": "execute_result"
    }
   ],
   "source": [
    "# Visualize the topics\n",
    "\n",
    "pyLDAvis.enable_notebook()\n",
    "vis_tri = gensimvis.prepare(lda_model_tri, corpus_tri, id2word_tri)\n",
    "vis_tri"
   ]
  },
  {
   "cell_type": "code",
   "execution_count": null,
   "metadata": {},
   "outputs": [],
   "source": []
  }
 ],
 "metadata": {
  "kernelspec": {
   "display_name": "Python 3",
   "language": "python",
   "name": "python3"
  },
  "language_info": {
   "codemirror_mode": {
    "name": "ipython",
    "version": 3
   },
   "file_extension": ".py",
   "mimetype": "text/x-python",
   "name": "python",
   "nbconvert_exporter": "python",
   "pygments_lexer": "ipython3",
   "version": "3.8.3"
  }
 },
 "nbformat": 4,
 "nbformat_minor": 4
}
